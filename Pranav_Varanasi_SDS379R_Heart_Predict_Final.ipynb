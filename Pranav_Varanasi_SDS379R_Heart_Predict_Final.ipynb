{
 "cells": [
  {
   "cell_type": "code",
   "execution_count": 838,
   "id": "cb9b1326",
   "metadata": {},
   "outputs": [],
   "source": [
    "# Import all libararies and methods required for analysis\n",
    "import pandas as pd\n",
    "import numpy as np\n",
    "import matplotlib.pyplot as plt\n",
    "import seaborn as sns\n",
    "%matplotlib inline\n",
    "from sklearn.linear_model import LogisticRegression, LinearRegression\n",
    "from sklearn.model_selection import cross_val_score\n",
    "from numpy import mean, std\n",
    "from sklearn import linear_model, metrics\n",
    "from sklearn.model_selection import train_test_split\n",
    "import joblib\n",
    "import os\n",
    "import shutil\n",
    "import statsmodels.api as sm"
   ]
  },
  {
   "cell_type": "code",
   "execution_count": 839,
   "id": "d9cbdea6",
   "metadata": {},
   "outputs": [
    {
     "name": "stdout",
     "output_type": "stream",
     "text": [
      "\u001b[31mHeart_Disease_Research.numbers\u001b[m\u001b[m\r\n",
      "Heart_Predict_V7.ipynb\r\n",
      "Pranav_SC_Research_Contract.pdf\r\n",
      "Pranav_Signed_Research_Contract.pdf\r\n",
      "Pranav_Varanasi_SDS379R_Heart_Predict_Final.ipynb\r\n",
      "Pranav_Varanasi_SDS479R_Research_Proposal.pdf\r\n",
      "\u001b[34mcleaned_frames\u001b[m\u001b[m\r\n",
      "cleve.mod\r\n",
      "cleveland.xlsx\r\n",
      "heart-disease.names\r\n",
      "heart_statlog_cleveland_hungary_final.csv\r\n",
      "hungarian.xlsx\r\n",
      "\u001b[34mpartial_frames\u001b[m\u001b[m\r\n",
      "switzerland.xlsx\r\n",
      "veterans.xlsx\r\n"
     ]
    }
   ],
   "source": [
    "!ls"
   ]
  },
  {
   "cell_type": "code",
   "execution_count": 840,
   "id": "41c3e9ca",
   "metadata": {},
   "outputs": [],
   "source": [
    "# Method Section\n",
    "\n",
    "# Read in input files to data frames\n",
    "def readData():\n",
    "    data_dict = {}\n",
    "\n",
    "    for file in os.listdir(os.getcwd()):\n",
    "        filename = os.fsdecode(file)\n",
    "        file_str = str(filename)\n",
    "        dot_index = file_str.find('.')\n",
    "\n",
    "        # Remove extension from file name\n",
    "        data_name = file_str[:dot_index]\n",
    "\n",
    "        # Don't read extraneous files like .DSTORE\n",
    "        # Keep all excel sheets closed to avoid \"excel file format\" error\n",
    "        if filename.endswith(\".xlsx\"): \n",
    "            df = pd.read_excel(filename, na_values='?')\n",
    "            # Ensure all columns are of numeric type\n",
    "            df[df.columns] = df[df.columns].apply(pd.to_numeric, errors='coerce', axis=1)\n",
    "            #print(df.dtypes)\n",
    "\n",
    "            # Convert all negative data to invalid nan value\n",
    "            column_labels = []\n",
    "            for col in df.columns:\n",
    "                df[col][df[col] < 0] = np.nan\n",
    "                column_labels.append(col.lower())\n",
    "\n",
    "            # Change column names to lowercase\n",
    "            df.columns = column_labels \n",
    "            df.head()\n",
    "            print('Dataset: ', data_name)\n",
    "            print(df)\n",
    "\n",
    "            # Save frame to data frame dictionary indexed by \"veterans\", \"cleveland\", etc\n",
    "            data_dict[data_name] = df\n",
    "    \n",
    "    return data_dict\n",
    "\n",
    "# Print out mean, median, summary statistics for each data frame\n",
    "def printSummaryStats(data_dict):\n",
    "    for frame in data_dict:\n",
    "        print(frame)\n",
    "        print(data_dict[frame].describe())\n",
    "        print('\\n\\n')\n",
    "\n",
    "# Calculate the missing value percent for each column in frame\n",
    "# Code sourced from https://www.analyticsvidhya.com/blog/2021/06/how-to-clean-data-in-python-for-machine-learning/ \n",
    "def calcMissingPercent(data_dict):\n",
    "    for frame in data_dict:\n",
    "        print(\"DF Name: \", frame)\n",
    "        current_df = data_dict[frame]\n",
    "        for col in current_df.columns:\n",
    "            # isnull takes into account NaN AND None data types\n",
    "            percent = np.mean(current_df[col].isnull())\n",
    "            print('{} - {}%'.format(col, round(percent * 100)))\n",
    "        print('\\n\\n')\n",
    "\n",
    "# Apply custom logic to clean out invalid values based on percent of missing data\n",
    "def cleanInvalidData(data_dict):\n",
    "    for frame in data_dict:\n",
    "        current_df = data_dict[frame]\n",
    "        for col in current_df.columns:\n",
    "            percent = np.mean(current_df[col].isnull())\n",
    "            # Clean invalid data columns (e.g. negatives)   \n",
    "            # Drop columns where greater than 50% of data is missing or invalid\n",
    "            if percent > 0.50:\n",
    "                current_df = current_df.drop([col], axis = 1)\n",
    "            # Fill NaN values with median for columns with less than 50% of data present\n",
    "            # Use MEDIAN instead of MEAN because of discrete values in data (e.g. 0, 1, 2) for slope\n",
    "            else:\n",
    "                current_df[col] = current_df[col].fillna(method = 'ffill')\n",
    "        \n",
    "        data_dict[frame] = current_df\n",
    "\n",
    "    return data_dict\n",
    "\n",
    "# Create custom logic to specifiy range of valid values per variable\n",
    "def cleanColumnData(data_dict):\n",
    "    \n",
    "    # Iterate through each frame's column and check each value is valid, drop invalid values\n",
    "    for frame in data_dict:\n",
    "        current_df = data_dict[frame]\n",
    "        for col in current_df.columns:\n",
    "            for i in range (0, len(current_df[col].values)):\n",
    "                val = current_df[col][i]\n",
    "\n",
    "                if col == 'age' and val <= 0:\n",
    "                    current_df[col][i] = None\n",
    "                elif col == 'sex' and (val != 0 and val != 1):\n",
    "                    current_df[col][i] = None\n",
    "                if col == 'chestpain' and (val != 1 and val != 2 and val != 3 and val != 4):\n",
    "                    current_df[col][i] = None\n",
    "                if col == 'restbp' and val <= 0:\n",
    "                    current_df[col][i] = None\n",
    "                if col == 'cholesterol' and val <= 0:\n",
    "                    current_df[col][i] = None\n",
    "                if col == 'fbs' and (val != 0 and val != 1):\n",
    "                    current_df[col][i] = None\n",
    "                if col == 'restecg' and (val != 0 and val != 1 and val != 2):\n",
    "                    current_df[col][i] = None\n",
    "                if col == 'maxhr' and val <= 0:\n",
    "                    current_df[col][i] = None\n",
    "                if col == 'exerciseang' and (val != 0 and val != 1):\n",
    "                    current_df[col][i] = None\n",
    "                if col == 'oldpeak' and val < 0:\n",
    "                    current_df[col][i] = None\n",
    "                if col == 'slope' and (val != 1 and val != 2 and val != 3):\n",
    "                    current_df[col][i] = None\n",
    "                if col == 'vesselscolored' and (val != 0 and val != 1 and val != 2 and val != 3):\n",
    "                    current_df[col][i] = None\n",
    "                if col == 'thal' and (val != 3 and val != 6 and val != 7):\n",
    "                    current_df[col][i] = None\n",
    "                if col == 'class' and (val != 0 and val != 1 and val != 2 and val != 3 and val != 4):\n",
    "                    current_df[col][i] = None\n",
    "                \n",
    "        # Save newly cleaned frames back to dictionary\n",
    "        data_dict[frame] = current_df\n",
    "\n",
    "    return data_dict\n",
    "\n",
    "\n",
    "# Generate correlation heat map for all frames in dictionary\n",
    "# Code sourced from https://medium.com/@szabo.bibor/how-to-create-a-seaborn-correlation-heatmap-in-python-834c0686b88e\n",
    "def generateHeatMap(data_dict):\n",
    "    frameCount = 0\n",
    "    # Iterate through frames and print correlation map per frame\n",
    "    for frame in data_dict:\n",
    "        current_df = data_dict[frame]\n",
    "        corr = current_df.corr()\n",
    "        print(corr)\n",
    "        plt.figure(frameCount)\n",
    "        sns.heatmap(corr, \n",
    "                 xticklabels=corr.columns, \n",
    "                 yticklabels=corr.columns)\n",
    "        plt.title(frame, fontsize =12)\n",
    "        frameCount+=1\n",
    "\n",
    "# Save partially cleaned data frames (keep invalid values) to file directory\n",
    "# Code sourced from https://www.geeksforgeeks.org/exporting-a-pandas-dataframe-to-an-excel-file/\n",
    "def save_partial_to_excel(df_name, input_df):\n",
    "    os.makedirs('partial_frames', exist_ok=True)   \n",
    "    path_name = 'partial_frames/partial_' + df_name + '.xlsx'\n",
    "    input_df.to_excel(path_name, encoding='utf8', index = False)  \n",
    "    \n",
    "# Save fully cleaned data frames to file directory\n",
    "# Code sourced from https://www.geeksforgeeks.org/exporting-a-pandas-dataframe-to-an-excel-file/\n",
    "def save_df_to_excel(df_name, input_df):\n",
    "    os.makedirs('cleaned_frames', exist_ok=True)   \n",
    "    path_name = 'cleaned_frames/cleaned_' + df_name + '.xlsx'\n",
    "    input_df.to_excel(path_name, encoding='utf8', index = False)  \n",
    "\n",
    "# Plot the significance of each feature variable in a trained model\n",
    "# Code sourced from https://towardsdatascience.com/3-essential-ways-to-calculate-feature-importance-in-python-2f9149592155\n",
    "def plotPredictors(input_x, trained_model):\n",
    "    \n",
    "    # Create dataframe using list of features and the trained coefficients returned from model\n",
    "    predictors = pd.DataFrame(data={\n",
    "    'Variable': input_x.columns,\n",
    "    'Significance': trained_model.coef_[0]\n",
    "    })\n",
    "\n",
    "    predictors = predictors.sort_values(by='Significance', ascending=False)\n",
    "\n",
    "    # Show barplot of feature significances\n",
    "    plt.bar(x=predictors['Variable'], height=predictors['Significance'], color='#087E8B')\n",
    "    plt.title('Feature significances from coefficients', size=20)\n",
    "    plt.xticks(rotation='vertical')\n",
    "    plt.show()"
   ]
  },
  {
   "cell_type": "code",
   "execution_count": 841,
   "id": "79551e51",
   "metadata": {},
   "outputs": [],
   "source": [
    "# Data Cleaning Section:"
   ]
  },
  {
   "cell_type": "code",
   "execution_count": 842,
   "id": "7e5645e5",
   "metadata": {},
   "outputs": [
    {
     "name": "stdout",
     "output_type": "stream",
     "text": [
      "Dataset:  veterans\n",
      "      age  sex  chestpain  restbp  cholesterol  fbs  restecg  maxhr  \\\n",
      "0    63.0  1.0        4.0   140.0        260.0  0.0      1.0  112.0   \n",
      "1     NaN  NaN        NaN     NaN          NaN  NaN      NaN    NaN   \n",
      "2    44.0  1.0        4.0   130.0        209.0  0.0      1.0  127.0   \n",
      "3    60.0  1.0        4.0   132.0        218.0  0.0      1.0  140.0   \n",
      "4    55.0  1.0        4.0   142.0        228.0  0.0      1.0  149.0   \n",
      "..    ...  ...        ...     ...          ...  ...      ...    ...   \n",
      "196  54.0  0.0        4.0   127.0        333.0  1.0      1.0  154.0   \n",
      "197  62.0  1.0        1.0     NaN        139.0  0.0      1.0    NaN   \n",
      "198  55.0  1.0        4.0   122.0        223.0  1.0      1.0  100.0   \n",
      "199  58.0  1.0        4.0     NaN        385.0  1.0      2.0    NaN   \n",
      "200  62.0  1.0        2.0   120.0        254.0  0.0      2.0   93.0   \n",
      "\n",
      "     exerciseang  oldpeak  slope  vesselscolored  thal  class  \n",
      "0            1.0      3.0    2.0             NaN   NaN    2.0  \n",
      "1            NaN      NaN    NaN             NaN   NaN    NaN  \n",
      "2            0.0      0.0    NaN             NaN   NaN    0.0  \n",
      "3            1.0      1.5    3.0             NaN   NaN    2.0  \n",
      "4            1.0      2.5    1.0             NaN   NaN    1.0  \n",
      "..           ...      ...    ...             ...   ...    ...  \n",
      "196          0.0      0.0    NaN             NaN   NaN    1.0  \n",
      "197          NaN      NaN    NaN             NaN   NaN    0.0  \n",
      "198          0.0      0.0    NaN             NaN   6.0    2.0  \n",
      "199          NaN      NaN    NaN             NaN   NaN    0.0  \n",
      "200          1.0      0.0    NaN             NaN   NaN    1.0  \n",
      "\n",
      "[201 rows x 14 columns]\n",
      "Dataset:  cleveland\n",
      "      age  sex  chestpain  restbp  cholesterol  fbs  restecg  maxhr  \\\n",
      "0    63.0  1.0        1.0   145.0        233.0  1.0      2.0  150.0   \n",
      "1    67.0  1.0        4.0   160.0        286.0  0.0      2.0  108.0   \n",
      "2    67.0  1.0        4.0   120.0        229.0  0.0      2.0  129.0   \n",
      "3    37.0  1.0        3.0   130.0        250.0  0.0      0.0  187.0   \n",
      "4    41.0  0.0        2.0   130.0        204.0  0.0      2.0  172.0   \n",
      "..    ...  ...        ...     ...          ...  ...      ...    ...   \n",
      "298  45.0  1.0        1.0   110.0        264.0  0.0      0.0  132.0   \n",
      "299  68.0  1.0        4.0   144.0        193.0  1.0      0.0  141.0   \n",
      "300  57.0  1.0        4.0   130.0        131.0  0.0      0.0  115.0   \n",
      "301  57.0  0.0        2.0   130.0        236.0  0.0      2.0  174.0   \n",
      "302  38.0  1.0        3.0   138.0        175.0  0.0      0.0  173.0   \n",
      "\n",
      "     exerciseang  oldpeak  slope  vesselscolored  thal  class  \n",
      "0            0.0      2.3    3.0             0.0   6.0    0.0  \n",
      "1            1.0      1.5    2.0             3.0   3.0    2.0  \n",
      "2            1.0      2.6    2.0             2.0   7.0    1.0  \n",
      "3            0.0      3.5    3.0             0.0   3.0    0.0  \n",
      "4            0.0      1.4    1.0             0.0   3.0    0.0  \n",
      "..           ...      ...    ...             ...   ...    ...  \n",
      "298          0.0      1.2    2.0             0.0   7.0    1.0  \n",
      "299          0.0      3.4    2.0             2.0   7.0    2.0  \n",
      "300          1.0      1.2    2.0             1.0   7.0    3.0  \n",
      "301          0.0      0.0    2.0             1.0   3.0    1.0  \n",
      "302          0.0      0.0    1.0             NaN   3.0    0.0  \n",
      "\n",
      "[303 rows x 14 columns]\n",
      "Dataset:  switzerland\n",
      "      age  sex  chestpain  restbp  cholesterol  fbs  restecg  maxhr  \\\n",
      "0    32.0  1.0        1.0    95.0          0.0  NaN      0.0  127.0   \n",
      "1    34.0  1.0        4.0   115.0          0.0  NaN      NaN  154.0   \n",
      "2    35.0  1.0        4.0     NaN          0.0  NaN      0.0  130.0   \n",
      "3    36.0  1.0        4.0   110.0          0.0  NaN      0.0  125.0   \n",
      "4    38.0  0.0        4.0   105.0          0.0  NaN      0.0  166.0   \n",
      "..    ...  ...        ...     ...          ...  ...      ...    ...   \n",
      "118  70.0  1.0        4.0   115.0          0.0  0.0      1.0   92.0   \n",
      "119  70.0  1.0        4.0   140.0          0.0  1.0      0.0  157.0   \n",
      "120  72.0  1.0        3.0   160.0          0.0  NaN      2.0  114.0   \n",
      "121  73.0  0.0        3.0   160.0          0.0  0.0      1.0  121.0   \n",
      "122  74.0  1.0        2.0   145.0          0.0  NaN      1.0  123.0   \n",
      "\n",
      "     exerciseang  oldpeak  slope  vesselscolored  thal  class  \n",
      "0            0.0      0.7    1.0             NaN   NaN    1.0  \n",
      "1            0.0      0.2    1.0             NaN   NaN    1.0  \n",
      "2            1.0      NaN    NaN             NaN   7.0    3.0  \n",
      "3            1.0      1.0    2.0             NaN   6.0    1.0  \n",
      "4            0.0      2.8    1.0             NaN   NaN    2.0  \n",
      "..           ...      ...    ...             ...   ...    ...  \n",
      "118          1.0      0.0    2.0             NaN   7.0    1.0  \n",
      "119          1.0      2.0    2.0             NaN   7.0    3.0  \n",
      "120          0.0      1.6    2.0             2.0   NaN    0.0  \n",
      "121          0.0      0.0    1.0             NaN   3.0    1.0  \n",
      "122          0.0      1.3    1.0             NaN   NaN    1.0  \n",
      "\n",
      "[123 rows x 14 columns]\n",
      "Dataset:  hungarian\n",
      "      age  sex  chestpain  restbp  cholesterol  fbs  restecg  maxhr  \\\n",
      "0    40.0  1.0        2.0   140.0        289.0  0.0      0.0  172.0   \n",
      "1    49.0  0.0        3.0   160.0        180.0  0.0      0.0  156.0   \n",
      "2    37.0  1.0        2.0   130.0        283.0  0.0      1.0   98.0   \n",
      "3    48.0  0.0        4.0   138.0        214.0  0.0      0.0  108.0   \n",
      "4    54.0  1.0        3.0   150.0          NaN  0.0      0.0  122.0   \n",
      "..    ...  ...        ...     ...          ...  ...      ...    ...   \n",
      "290  36.0  1.0        2.0   120.0        166.0  0.0      0.0  180.0   \n",
      "291  48.0  1.0        3.0   110.0        211.0  0.0      0.0  138.0   \n",
      "292  47.0  0.0        2.0   140.0        257.0  0.0      0.0  135.0   \n",
      "293  53.0  1.0        4.0   130.0        182.0  0.0      0.0  148.0   \n",
      "294   NaN  NaN        NaN     NaN          NaN  NaN      NaN    NaN   \n",
      "\n",
      "     exerciseang  oldpeak  slope  vesselscolored  thal  class  \n",
      "0            0.0      0.0    NaN             NaN   NaN    0.0  \n",
      "1            0.0      1.0    2.0             NaN   NaN    1.0  \n",
      "2            0.0      0.0    NaN             NaN   NaN    0.0  \n",
      "3            1.0      1.5    2.0             NaN   NaN    3.0  \n",
      "4            0.0      0.0    NaN             NaN   NaN    0.0  \n",
      "..           ...      ...    ...             ...   ...    ...  \n",
      "290          0.0      0.0    NaN             NaN   NaN    0.0  \n",
      "291          0.0      0.0    NaN             NaN   6.0    0.0  \n",
      "292          0.0      1.0    1.0             NaN   NaN    0.0  \n",
      "293          0.0      0.0    NaN             NaN   NaN    0.0  \n",
      "294          NaN      NaN    NaN             NaN   NaN    NaN  \n",
      "\n",
      "[295 rows x 14 columns]\n"
     ]
    }
   ],
   "source": [
    "# Save files to stored_frames dictionary\n",
    "stored_frames = readData()        "
   ]
  },
  {
   "cell_type": "code",
   "execution_count": 843,
   "id": "81146d3c",
   "metadata": {},
   "outputs": [
    {
     "name": "stdout",
     "output_type": "stream",
     "text": [
      "veterans\n",
      "              age         sex   chestpain      restbp  cholesterol  \\\n",
      "count  200.000000  200.000000  200.000000  144.000000   193.000000   \n",
      "mean    59.350000    0.970000    3.505000  133.763889   178.746114   \n",
      "std      7.811697    0.171015    0.795701   21.537733   114.035232   \n",
      "min     35.000000    0.000000    1.000000    0.000000     0.000000   \n",
      "25%     55.000000    1.000000    3.000000  120.000000     0.000000   \n",
      "50%     60.000000    1.000000    4.000000  130.000000   216.000000   \n",
      "75%     64.000000    1.000000    4.000000  147.000000   258.000000   \n",
      "max     77.000000    1.000000    4.000000  190.000000   458.000000   \n",
      "\n",
      "              fbs     restecg       maxhr  exerciseang     oldpeak      slope  \\\n",
      "count  193.000000  200.000000  147.000000   147.000000  143.000000  98.000000   \n",
      "mean     0.352332    0.735000  122.795918     0.646259    1.333566   2.132653   \n",
      "std      0.478939    0.683455   21.990328     0.479765    1.099484   0.667937   \n",
      "min      0.000000    0.000000   69.000000     0.000000    0.000000   1.000000   \n",
      "25%      0.000000    0.000000  109.000000     0.000000    0.000000   2.000000   \n",
      "50%      0.000000    1.000000  120.000000     1.000000    1.500000   2.000000   \n",
      "75%      1.000000    1.000000  140.000000     1.000000    2.000000   3.000000   \n",
      "max      1.000000    2.000000  180.000000     1.000000    4.000000   3.000000   \n",
      "\n",
      "       vesselscolored       thal       class  \n",
      "count             2.0  34.000000  200.000000  \n",
      "mean              0.0   6.294118    1.520000  \n",
      "std               0.0   1.291685    1.219441  \n",
      "min               0.0   3.000000    0.000000  \n",
      "25%               0.0   6.000000    0.000000  \n",
      "50%               0.0   7.000000    1.000000  \n",
      "75%               0.0   7.000000    3.000000  \n",
      "max               0.0   7.000000    4.000000  \n",
      "\n",
      "\n",
      "\n",
      "cleveland\n",
      "              age         sex   chestpain      restbp  cholesterol  \\\n",
      "count  303.000000  303.000000  303.000000  303.000000   303.000000   \n",
      "mean    54.438944    0.679868    3.158416  131.689769   246.693069   \n",
      "std      9.038662    0.467299    0.960126   17.599748    51.776918   \n",
      "min     29.000000    0.000000    1.000000   94.000000   126.000000   \n",
      "25%     48.000000    0.000000    3.000000  120.000000   211.000000   \n",
      "50%     56.000000    1.000000    3.000000  130.000000   241.000000   \n",
      "75%     61.000000    1.000000    4.000000  140.000000   275.000000   \n",
      "max     77.000000    1.000000    4.000000  200.000000   564.000000   \n",
      "\n",
      "              fbs     restecg       maxhr  exerciseang     oldpeak  \\\n",
      "count  303.000000  303.000000  303.000000   303.000000  303.000000   \n",
      "mean     0.148515    0.990099  149.607261     0.326733    1.039604   \n",
      "std      0.356198    0.994971   22.875003     0.469794    1.161075   \n",
      "min      0.000000    0.000000   71.000000     0.000000    0.000000   \n",
      "25%      0.000000    0.000000  133.500000     0.000000    0.000000   \n",
      "50%      0.000000    1.000000  153.000000     0.000000    0.800000   \n",
      "75%      0.000000    2.000000  166.000000     1.000000    1.600000   \n",
      "max      1.000000    2.000000  202.000000     1.000000    6.200000   \n",
      "\n",
      "            slope  vesselscolored        thal       class  \n",
      "count  303.000000      299.000000  301.000000  303.000000  \n",
      "mean     1.600660        0.672241    4.734219    0.937294  \n",
      "std      0.616226        0.937438    1.939706    1.228536  \n",
      "min      1.000000        0.000000    3.000000    0.000000  \n",
      "25%      1.000000        0.000000    3.000000    0.000000  \n",
      "50%      2.000000        0.000000    3.000000    0.000000  \n",
      "75%      2.000000        1.000000    7.000000    2.000000  \n",
      "max      3.000000        3.000000    7.000000    4.000000  \n",
      "\n",
      "\n",
      "\n",
      "switzerland\n",
      "              age         sex   chestpain      restbp  cholesterol        fbs  \\\n",
      "count  123.000000  123.000000  123.000000  121.000000        123.0  48.000000   \n",
      "mean    55.317073    0.918699    3.699187  130.206612          0.0   0.104167   \n",
      "std      9.032108    0.274414    0.688726   22.559151          0.0   0.308709   \n",
      "min     32.000000    0.000000    1.000000   80.000000          0.0   0.000000   \n",
      "25%     51.000000    1.000000    4.000000  115.000000          0.0   0.000000   \n",
      "50%     56.000000    1.000000    4.000000  125.000000          0.0   0.000000   \n",
      "75%     61.500000    1.000000    4.000000  145.000000          0.0   0.000000   \n",
      "max     74.000000    1.000000    4.000000  200.000000          0.0   1.000000   \n",
      "\n",
      "          restecg       maxhr  exerciseang     oldpeak       slope  \\\n",
      "count  122.000000  122.000000   122.000000  106.000000  106.000000   \n",
      "mean     0.360656  121.557377     0.442623    0.836792    1.801887   \n",
      "std      0.590077   25.977438     0.498745    0.908932    0.623658   \n",
      "min      0.000000   60.000000     0.000000    0.000000    1.000000   \n",
      "25%      0.000000  104.250000     0.000000    0.000000    1.000000   \n",
      "50%      0.000000  121.000000     0.000000    0.500000    2.000000   \n",
      "75%      1.000000  140.000000     1.000000    1.500000    2.000000   \n",
      "max      2.000000  182.000000     1.000000    3.700000    3.000000   \n",
      "\n",
      "       vesselscolored       thal       class  \n",
      "count        5.000000  71.000000  123.000000  \n",
      "mean         1.600000   5.788732    1.804878  \n",
      "std          0.547723   1.731354    1.013503  \n",
      "min          1.000000   3.000000    0.000000  \n",
      "25%          1.000000   3.000000    1.000000  \n",
      "50%          2.000000   7.000000    2.000000  \n",
      "75%          2.000000   7.000000    3.000000  \n",
      "max          2.000000   7.000000    4.000000  \n",
      "\n",
      "\n",
      "\n",
      "hungarian\n",
      "              age         sex   chestpain      restbp  cholesterol  \\\n",
      "count  294.000000  294.000000  294.000000  293.000000   271.000000   \n",
      "mean    47.826531    0.724490    2.982993  132.583618   250.848708   \n",
      "std      7.811812    0.447533    0.965117   17.626568    67.657711   \n",
      "min     28.000000    0.000000    1.000000   92.000000    85.000000   \n",
      "25%     42.000000    0.000000    2.000000  120.000000   209.000000   \n",
      "50%     49.000000    1.000000    3.000000  130.000000   243.000000   \n",
      "75%     54.000000    1.000000    4.000000  140.000000   282.500000   \n",
      "max     66.000000    1.000000    4.000000  200.000000   603.000000   \n",
      "\n",
      "              fbs     restecg       maxhr  exerciseang     oldpeak  \\\n",
      "count  286.000000  293.000000  293.000000   293.000000  294.000000   \n",
      "mean     0.069930    0.218430  139.129693     0.303754    0.586054   \n",
      "std      0.255476    0.460868   23.589749     0.460665    0.908648   \n",
      "min      0.000000    0.000000   82.000000     0.000000    0.000000   \n",
      "25%      0.000000    0.000000  122.000000     0.000000    0.000000   \n",
      "50%      0.000000    0.000000  140.000000     0.000000    0.000000   \n",
      "75%      0.000000    0.000000  155.000000     1.000000    1.000000   \n",
      "max      1.000000    2.000000  190.000000     1.000000    5.000000   \n",
      "\n",
      "            slope  vesselscolored       thal       class  \n",
      "count  104.000000            4.00  28.000000  294.000000  \n",
      "mean     1.894231            2.25   5.642857    0.792517  \n",
      "std      0.338995            4.50   1.615074    1.237006  \n",
      "min      1.000000            0.00   3.000000    0.000000  \n",
      "25%      2.000000            0.00   5.250000    0.000000  \n",
      "50%      2.000000            0.00   6.000000    0.000000  \n",
      "75%      2.000000            2.25   7.000000    1.000000  \n",
      "max      3.000000            9.00   7.000000    4.000000  \n",
      "\n",
      "\n",
      "\n"
     ]
    }
   ],
   "source": [
    "# Check for invalid data on a per-column basis (e.g. rest bp should never be 0)\n",
    "printSummaryStats(stored_frames)"
   ]
  },
  {
   "cell_type": "code",
   "execution_count": 844,
   "id": "aeda10d8",
   "metadata": {},
   "outputs": [
    {
     "data": {
      "text/plain": [
       "{'veterans':       age  sex  chestpain  restbp  cholesterol  fbs  restecg  maxhr  \\\n",
       " 0    63.0  1.0        4.0   140.0        260.0  0.0      1.0  112.0   \n",
       " 1     NaN  NaN        NaN     NaN          NaN  NaN      NaN    NaN   \n",
       " 2    44.0  1.0        4.0   130.0        209.0  0.0      1.0  127.0   \n",
       " 3    60.0  1.0        4.0   132.0        218.0  0.0      1.0  140.0   \n",
       " 4    55.0  1.0        4.0   142.0        228.0  0.0      1.0  149.0   \n",
       " ..    ...  ...        ...     ...          ...  ...      ...    ...   \n",
       " 196  54.0  0.0        4.0   127.0        333.0  1.0      1.0  154.0   \n",
       " 197  62.0  1.0        1.0     NaN        139.0  0.0      1.0    NaN   \n",
       " 198  55.0  1.0        4.0   122.0        223.0  1.0      1.0  100.0   \n",
       " 199  58.0  1.0        4.0     NaN        385.0  1.0      2.0    NaN   \n",
       " 200  62.0  1.0        2.0   120.0        254.0  0.0      2.0   93.0   \n",
       " \n",
       "      exerciseang  oldpeak  slope  vesselscolored  thal  class  \n",
       " 0            1.0      3.0    2.0             NaN   NaN    2.0  \n",
       " 1            NaN      NaN    NaN             NaN   NaN    NaN  \n",
       " 2            0.0      0.0    NaN             NaN   NaN    0.0  \n",
       " 3            1.0      1.5    3.0             NaN   NaN    2.0  \n",
       " 4            1.0      2.5    1.0             NaN   NaN    1.0  \n",
       " ..           ...      ...    ...             ...   ...    ...  \n",
       " 196          0.0      0.0    NaN             NaN   NaN    1.0  \n",
       " 197          NaN      NaN    NaN             NaN   NaN    0.0  \n",
       " 198          0.0      0.0    NaN             NaN   6.0    2.0  \n",
       " 199          NaN      NaN    NaN             NaN   NaN    0.0  \n",
       " 200          1.0      0.0    NaN             NaN   NaN    1.0  \n",
       " \n",
       " [201 rows x 14 columns],\n",
       " 'cleveland':       age  sex  chestpain  restbp  cholesterol  fbs  restecg  maxhr  \\\n",
       " 0    63.0  1.0        1.0   145.0        233.0  1.0      2.0  150.0   \n",
       " 1    67.0  1.0        4.0   160.0        286.0  0.0      2.0  108.0   \n",
       " 2    67.0  1.0        4.0   120.0        229.0  0.0      2.0  129.0   \n",
       " 3    37.0  1.0        3.0   130.0        250.0  0.0      0.0  187.0   \n",
       " 4    41.0  0.0        2.0   130.0        204.0  0.0      2.0  172.0   \n",
       " ..    ...  ...        ...     ...          ...  ...      ...    ...   \n",
       " 298  45.0  1.0        1.0   110.0        264.0  0.0      0.0  132.0   \n",
       " 299  68.0  1.0        4.0   144.0        193.0  1.0      0.0  141.0   \n",
       " 300  57.0  1.0        4.0   130.0        131.0  0.0      0.0  115.0   \n",
       " 301  57.0  0.0        2.0   130.0        236.0  0.0      2.0  174.0   \n",
       " 302  38.0  1.0        3.0   138.0        175.0  0.0      0.0  173.0   \n",
       " \n",
       "      exerciseang  oldpeak  slope  vesselscolored  thal  class  \n",
       " 0            0.0      2.3    3.0             0.0   6.0    0.0  \n",
       " 1            1.0      1.5    2.0             3.0   3.0    2.0  \n",
       " 2            1.0      2.6    2.0             2.0   7.0    1.0  \n",
       " 3            0.0      3.5    3.0             0.0   3.0    0.0  \n",
       " 4            0.0      1.4    1.0             0.0   3.0    0.0  \n",
       " ..           ...      ...    ...             ...   ...    ...  \n",
       " 298          0.0      1.2    2.0             0.0   7.0    1.0  \n",
       " 299          0.0      3.4    2.0             2.0   7.0    2.0  \n",
       " 300          1.0      1.2    2.0             1.0   7.0    3.0  \n",
       " 301          0.0      0.0    2.0             1.0   3.0    1.0  \n",
       " 302          0.0      0.0    1.0             NaN   3.0    0.0  \n",
       " \n",
       " [303 rows x 14 columns],\n",
       " 'switzerland':       age  sex  chestpain  restbp  cholesterol  fbs  restecg  maxhr  \\\n",
       " 0    32.0  1.0        1.0    95.0          NaN  NaN      0.0  127.0   \n",
       " 1    34.0  1.0        4.0   115.0          NaN  NaN      NaN  154.0   \n",
       " 2    35.0  1.0        4.0     NaN          NaN  NaN      0.0  130.0   \n",
       " 3    36.0  1.0        4.0   110.0          NaN  NaN      0.0  125.0   \n",
       " 4    38.0  0.0        4.0   105.0          NaN  NaN      0.0  166.0   \n",
       " ..    ...  ...        ...     ...          ...  ...      ...    ...   \n",
       " 118  70.0  1.0        4.0   115.0          NaN  0.0      1.0   92.0   \n",
       " 119  70.0  1.0        4.0   140.0          NaN  1.0      0.0  157.0   \n",
       " 120  72.0  1.0        3.0   160.0          NaN  NaN      2.0  114.0   \n",
       " 121  73.0  0.0        3.0   160.0          NaN  0.0      1.0  121.0   \n",
       " 122  74.0  1.0        2.0   145.0          NaN  NaN      1.0  123.0   \n",
       " \n",
       "      exerciseang  oldpeak  slope  vesselscolored  thal  class  \n",
       " 0            0.0      0.7    1.0             NaN   NaN    1.0  \n",
       " 1            0.0      0.2    1.0             NaN   NaN    1.0  \n",
       " 2            1.0      NaN    NaN             NaN   7.0    3.0  \n",
       " 3            1.0      1.0    2.0             NaN   6.0    1.0  \n",
       " 4            0.0      2.8    1.0             NaN   NaN    2.0  \n",
       " ..           ...      ...    ...             ...   ...    ...  \n",
       " 118          1.0      0.0    2.0             NaN   7.0    1.0  \n",
       " 119          1.0      2.0    2.0             NaN   7.0    3.0  \n",
       " 120          0.0      1.6    2.0             2.0   NaN    0.0  \n",
       " 121          0.0      0.0    1.0             NaN   3.0    1.0  \n",
       " 122          0.0      1.3    1.0             NaN   NaN    1.0  \n",
       " \n",
       " [123 rows x 14 columns],\n",
       " 'hungarian':       age  sex  chestpain  restbp  cholesterol  fbs  restecg  maxhr  \\\n",
       " 0    40.0  1.0        2.0   140.0        289.0  0.0      0.0  172.0   \n",
       " 1    49.0  0.0        3.0   160.0        180.0  0.0      0.0  156.0   \n",
       " 2    37.0  1.0        2.0   130.0        283.0  0.0      1.0   98.0   \n",
       " 3    48.0  0.0        4.0   138.0        214.0  0.0      0.0  108.0   \n",
       " 4    54.0  1.0        3.0   150.0          NaN  0.0      0.0  122.0   \n",
       " ..    ...  ...        ...     ...          ...  ...      ...    ...   \n",
       " 290  36.0  1.0        2.0   120.0        166.0  0.0      0.0  180.0   \n",
       " 291  48.0  1.0        3.0   110.0        211.0  0.0      0.0  138.0   \n",
       " 292  47.0  0.0        2.0   140.0        257.0  0.0      0.0  135.0   \n",
       " 293  53.0  1.0        4.0   130.0        182.0  0.0      0.0  148.0   \n",
       " 294   NaN  NaN        NaN     NaN          NaN  NaN      NaN    NaN   \n",
       " \n",
       "      exerciseang  oldpeak  slope  vesselscolored  thal  class  \n",
       " 0            0.0      0.0    NaN             NaN   NaN    0.0  \n",
       " 1            0.0      1.0    2.0             NaN   NaN    1.0  \n",
       " 2            0.0      0.0    NaN             NaN   NaN    0.0  \n",
       " 3            1.0      1.5    2.0             NaN   NaN    3.0  \n",
       " 4            0.0      0.0    NaN             NaN   NaN    0.0  \n",
       " ..           ...      ...    ...             ...   ...    ...  \n",
       " 290          0.0      0.0    NaN             NaN   NaN    0.0  \n",
       " 291          0.0      0.0    NaN             NaN   6.0    0.0  \n",
       " 292          0.0      1.0    1.0             NaN   NaN    0.0  \n",
       " 293          0.0      0.0    NaN             NaN   NaN    0.0  \n",
       " 294          NaN      NaN    NaN             NaN   NaN    NaN  \n",
       " \n",
       " [295 rows x 14 columns]}"
      ]
     },
     "execution_count": 844,
     "metadata": {},
     "output_type": "execute_result"
    }
   ],
   "source": [
    "# Create None holes for values that are in an invalid range\n",
    "cleanColumnData(stored_frames)"
   ]
  },
  {
   "cell_type": "code",
   "execution_count": 845,
   "id": "a54404ab",
   "metadata": {},
   "outputs": [
    {
     "name": "stdout",
     "output_type": "stream",
     "text": [
      "DF Name:  veterans\n",
      "age - 0%\n",
      "sex - 0%\n",
      "chestpain - 0%\n",
      "restbp - 29%\n",
      "cholesterol - 28%\n",
      "fbs - 4%\n",
      "restecg - 0%\n",
      "maxhr - 27%\n",
      "exerciseang - 27%\n",
      "oldpeak - 29%\n",
      "slope - 51%\n",
      "vesselscolored - 99%\n",
      "thal - 83%\n",
      "class - 0%\n",
      "\n",
      "\n",
      "\n",
      "DF Name:  cleveland\n",
      "age - 0%\n",
      "sex - 0%\n",
      "chestpain - 0%\n",
      "restbp - 0%\n",
      "cholesterol - 0%\n",
      "fbs - 0%\n",
      "restecg - 0%\n",
      "maxhr - 0%\n",
      "exerciseang - 0%\n",
      "oldpeak - 0%\n",
      "slope - 0%\n",
      "vesselscolored - 1%\n",
      "thal - 1%\n",
      "class - 0%\n",
      "\n",
      "\n",
      "\n",
      "DF Name:  switzerland\n",
      "age - 0%\n",
      "sex - 0%\n",
      "chestpain - 0%\n",
      "restbp - 2%\n",
      "cholesterol - 100%\n",
      "fbs - 61%\n",
      "restecg - 1%\n",
      "maxhr - 1%\n",
      "exerciseang - 1%\n",
      "oldpeak - 14%\n",
      "slope - 14%\n",
      "vesselscolored - 96%\n",
      "thal - 42%\n",
      "class - 0%\n",
      "\n",
      "\n",
      "\n",
      "DF Name:  hungarian\n",
      "age - 0%\n",
      "sex - 0%\n",
      "chestpain - 0%\n",
      "restbp - 1%\n",
      "cholesterol - 8%\n",
      "fbs - 3%\n",
      "restecg - 1%\n",
      "maxhr - 1%\n",
      "exerciseang - 1%\n",
      "oldpeak - 0%\n",
      "slope - 65%\n",
      "vesselscolored - 99%\n",
      "thal - 91%\n",
      "class - 0%\n",
      "\n",
      "\n",
      "\n"
     ]
    }
   ],
   "source": [
    "# Print percent of missing data for each column in frames\n",
    "calcMissingPercent(stored_frames)"
   ]
  },
  {
   "cell_type": "code",
   "execution_count": 846,
   "id": "55fafa7b",
   "metadata": {},
   "outputs": [
    {
     "name": "stdout",
     "output_type": "stream",
     "text": [
      "DF Name:  veterans\n",
      "age - 0%\n",
      "sex - 0%\n",
      "chestpain - 0%\n",
      "restbp - 0%\n",
      "cholesterol - 0%\n",
      "fbs - 0%\n",
      "restecg - 0%\n",
      "maxhr - 0%\n",
      "exerciseang - 0%\n",
      "oldpeak - 0%\n",
      "class - 0%\n",
      "\n",
      "\n",
      "\n",
      "DF Name:  cleveland\n",
      "age - 0%\n",
      "sex - 0%\n",
      "chestpain - 0%\n",
      "restbp - 0%\n",
      "cholesterol - 0%\n",
      "fbs - 0%\n",
      "restecg - 0%\n",
      "maxhr - 0%\n",
      "exerciseang - 0%\n",
      "oldpeak - 0%\n",
      "slope - 0%\n",
      "vesselscolored - 0%\n",
      "thal - 0%\n",
      "class - 0%\n",
      "\n",
      "\n",
      "\n",
      "DF Name:  switzerland\n",
      "age - 0%\n",
      "sex - 0%\n",
      "chestpain - 0%\n",
      "restbp - 0%\n",
      "restecg - 0%\n",
      "maxhr - 0%\n",
      "exerciseang - 0%\n",
      "oldpeak - 0%\n",
      "slope - 0%\n",
      "thal - 2%\n",
      "class - 0%\n",
      "\n",
      "\n",
      "\n",
      "DF Name:  hungarian\n",
      "age - 0%\n",
      "sex - 0%\n",
      "chestpain - 0%\n",
      "restbp - 0%\n",
      "cholesterol - 0%\n",
      "fbs - 0%\n",
      "restecg - 0%\n",
      "maxhr - 0%\n",
      "exerciseang - 0%\n",
      "oldpeak - 0%\n",
      "class - 0%\n",
      "\n",
      "\n",
      "\n"
     ]
    }
   ],
   "source": [
    "# Remove all existing files in directory\n",
    "if os.path.isdir('partial_frames'):\n",
    "    shutil.rmtree('partial_frames')\n",
    "\n",
    "# Save cleaned frames to csv files\n",
    "for frame in stored_frames:\n",
    "    save_partial_to_excel(frame, stored_frames[frame])\n",
    "\n",
    "# Clean frames as per custom logic to eliminate > 50% missing values and forward-fill the rest\n",
    "stored_frames = cleanInvalidData(stored_frames)\n",
    "\n",
    "# Re-calculate the percent of missing data after cleaning\n",
    "calcMissingPercent(stored_frames)\n",
    "\n",
    "# Remove all existing files in directory\n",
    "if os.path.isdir('cleaned_frames'):\n",
    "    shutil.rmtree('cleaned_frames')\n",
    "\n",
    "# Save cleaned frames to csv files\n",
    "for frame in stored_frames:\n",
    "    save_df_to_excel(frame, stored_frames[frame])"
   ]
  },
  {
   "cell_type": "code",
   "execution_count": 847,
   "id": "2466a2ac",
   "metadata": {},
   "outputs": [],
   "source": [
    "# Add column showing which dataset data is coming from\n",
    "for frame in stored_frames:\n",
    "    current_frame = stored_frames[frame]\n",
    "    current_frame['dataset'] = frame"
   ]
  },
  {
   "cell_type": "code",
   "execution_count": 848,
   "id": "5a61ac2a",
   "metadata": {},
   "outputs": [
    {
     "name": "stdout",
     "output_type": "stream",
     "text": [
      "age - 0%\n",
      "sex - 0%\n",
      "chestpain - 0%\n",
      "restbp - 0%\n",
      "cholesterol - 0%\n",
      "fbs - 0%\n",
      "restecg - 0%\n",
      "maxhr - 0%\n",
      "exerciseang - 0%\n",
      "oldpeak - 0%\n",
      "class - 0%\n",
      "dataset - 0%\n"
     ]
    }
   ],
   "source": [
    "# Combine dataframes and eliminate invalid data\n",
    "frames = [stored_frames['veterans'], stored_frames['cleveland'], stored_frames['switzerland'], stored_frames['hungarian']]\n",
    "combined_df = pd.concat(frames)\n",
    "\n",
    "# Iterate through combined data frame and print percent of missing values\n",
    "# Code sourced from https://www.analyticsvidhya.com/blog/2021/06/how-to-clean-data-in-python-for-machine-learning/\n",
    "for col in combined_df.columns:\n",
    "    # isnull takes into account NaN AND None data types\n",
    "    percent = np.mean(combined_df[col].isnull())\n",
    "    \n",
    "    if percent > 0.50:\n",
    "        combined_df = combined_df.drop([col], axis = 1)\n",
    "    else:\n",
    "        # Forward Fill NaN values for columns with less than 50% of data present\n",
    "        combined_df[col] = combined_df[col].fillna(method = 'ffill')\n",
    "\n",
    "# Print percent missing values before and after cleaning\n",
    "for col in combined_df.columns:\n",
    "    # isnull takes into account NaN AND None data types\n",
    "    percent = np.mean(combined_df[col].isnull())\n",
    "    print('{} - {}%'.format(col, round(percent*100)))\n"
   ]
  },
  {
   "cell_type": "code",
   "execution_count": 849,
   "id": "43d3524c",
   "metadata": {},
   "outputs": [
    {
     "name": "stdout",
     "output_type": "stream",
     "text": [
      "      age  sex  chestpain  restbp  cholesterol  fbs  restecg  maxhr  \\\n",
      "0    63.0  1.0        4.0   140.0        260.0  0.0      1.0  112.0   \n",
      "1    63.0  1.0        4.0   140.0        260.0  0.0      1.0  112.0   \n",
      "2    44.0  1.0        4.0   130.0        209.0  0.0      1.0  127.0   \n",
      "3    60.0  1.0        4.0   132.0        218.0  0.0      1.0  140.0   \n",
      "4    55.0  1.0        4.0   142.0        228.0  0.0      1.0  149.0   \n",
      "..    ...  ...        ...     ...          ...  ...      ...    ...   \n",
      "290  36.0  1.0        2.0   120.0        166.0  0.0      0.0  180.0   \n",
      "291  48.0  1.0        3.0   110.0        211.0  0.0      0.0  138.0   \n",
      "292  47.0  0.0        2.0   140.0        257.0  0.0      0.0  135.0   \n",
      "293  53.0  1.0        4.0   130.0        182.0  0.0      0.0  148.0   \n",
      "294  53.0  1.0        4.0   130.0        182.0  0.0      0.0  148.0   \n",
      "\n",
      "     exerciseang  oldpeak  class    dataset  \n",
      "0            1.0      3.0    2.0   veterans  \n",
      "1            1.0      3.0    2.0   veterans  \n",
      "2            0.0      0.0    0.0   veterans  \n",
      "3            1.0      1.5    2.0   veterans  \n",
      "4            1.0      2.5    1.0   veterans  \n",
      "..           ...      ...    ...        ...  \n",
      "290          0.0      0.0    0.0  hungarian  \n",
      "291          0.0      0.0    0.0  hungarian  \n",
      "292          0.0      1.0    0.0  hungarian  \n",
      "293          0.0      0.0    0.0  hungarian  \n",
      "294          0.0      0.0    0.0  hungarian  \n",
      "\n",
      "[922 rows x 12 columns]\n"
     ]
    }
   ],
   "source": [
    "print(combined_df)"
   ]
  },
  {
   "cell_type": "code",
   "execution_count": 850,
   "id": "299ba893",
   "metadata": {},
   "outputs": [
    {
     "data": {
      "text/plain": [
       "age            float64\n",
       "sex            float64\n",
       "chestpain      float64\n",
       "restbp         float64\n",
       "cholesterol    float64\n",
       "fbs            float64\n",
       "restecg        float64\n",
       "maxhr          float64\n",
       "exerciseang    float64\n",
       "oldpeak        float64\n",
       "class          float64\n",
       "dataset         object\n",
       "dtype: object"
      ]
     },
     "execution_count": 850,
     "metadata": {},
     "output_type": "execute_result"
    }
   ],
   "source": [
    "combined_df.dtypes"
   ]
  },
  {
   "cell_type": "code",
   "execution_count": 851,
   "id": "229b5b9c",
   "metadata": {},
   "outputs": [
    {
     "data": {
      "image/png": "[encoded data removed]",
      "text/plain": [
       "<Figure size 432x288 with 1 Axes>"
      ]
     },
     "metadata": {
      "needs_background": "light"
     },
     "output_type": "display_data"
    },
    {
     "data": {
      "image/png": "[encoded data removed]",
      "text/plain": [
       "<Figure size 432x288 with 1 Axes>"
      ]
     },
     "metadata": {
      "needs_background": "light"
     },
     "output_type": "display_data"
    },
    {
     "data": {
      "image/png": "[encoded data removed]",
      "text/plain": [
       "<Figure size 432x288 with 1 Axes>"
      ]
     },
     "metadata": {
      "needs_background": "light"
     },
     "output_type": "display_data"
    },
    {
     "data": {
      "image/png": "[encoded data removed]",
      "text/plain": [
       "<Figure size 432x288 with 1 Axes>"
      ]
     },
     "metadata": {
      "needs_background": "light"
     },
     "output_type": "display_data"
    },
    {
     "data": {
      "image/png": "[encoded data removed]",
      "text/plain": [
       "<Figure size 432x288 with 1 Axes>"
      ]
     },
     "metadata": {
      "needs_background": "light"
     },
     "output_type": "display_data"
    },
    {
     "data": {
      "image/png": "[encoded data removed]",
      "text/plain": [
       "<Figure size 432x288 with 1 Axes>"
      ]
     },
     "metadata": {
      "needs_background": "light"
     },
     "output_type": "display_data"
    },
    {
     "data": {
      "image/png": "[encoded data removed]",
      "text/plain": [
       "<Figure size 432x288 with 1 Axes>"
      ]
     },
     "metadata": {
      "needs_background": "light"
     },
     "output_type": "display_data"
    },
    {
     "data": {
      "image/png": "[encoded data removed]",
      "text/plain": [
       "<Figure size 432x288 with 1 Axes>"
      ]
     },
     "metadata": {
      "needs_background": "light"
     },
     "output_type": "display_data"
    },
    {
     "data": {
      "image/png": "[encoded data removed]",
      "text/plain": [
       "<Figure size 432x288 with 1 Axes>"
      ]
     },
     "metadata": {
      "needs_background": "light"
     },
     "output_type": "display_data"
    },
    {
     "data": {
      "image/png": "[encoded data removed]",
      "text/plain": [
       "<Figure size 432x288 with 1 Axes>"
      ]
     },
     "metadata": {
      "needs_background": "light"
     },
     "output_type": "display_data"
    }
   ],
   "source": [
    "# Create a univariate histogram distribution for healthy and sick patients\n",
    "# Histogram code sourced from https://pandas.pydata.org/docs/reference/api/pandas.DataFrame.hist.html\n",
    "\n",
    "# Filter for healthy and sick classes in frame\n",
    "healthy_df = combined_df[combined_df['class'] == 0.0]\n",
    "sick_df = combined_df[combined_df['class'] >= 1.0]\n",
    "\n",
    "# Print sick distribution\n",
    "for col in sick_df.columns:\n",
    "    # Exclude non-numeric variables from distributions\n",
    "    if col != 'class' and col != 'dataset':\n",
    "        sick_df.hist(column=col, bins=10);\n",
    "        "
   ]
  },
  {
   "cell_type": "code",
   "execution_count": 852,
   "id": "85dff981",
   "metadata": {},
   "outputs": [
    {
     "data": {
      "image/png": "[encoded data removed]",
      "text/plain": [
       "<Figure size 432x288 with 1 Axes>"
      ]
     },
     "metadata": {
      "needs_background": "light"
     },
     "output_type": "display_data"
    },
    {
     "data": {
      "image/png": "[encoded data removed]",
      "text/plain": [
       "<Figure size 432x288 with 1 Axes>"
      ]
     },
     "metadata": {
      "needs_background": "light"
     },
     "output_type": "display_data"
    },
    {
     "data": {
      "image/png": "[encoded data removed]",
      "text/plain": [
       "<Figure size 432x288 with 1 Axes>"
      ]
     },
     "metadata": {
      "needs_background": "light"
     },
     "output_type": "display_data"
    },
    {
     "data": {
      "image/png": "[encoded data removed]",
      "text/plain": [
       "<Figure size 432x288 with 1 Axes>"
      ]
     },
     "metadata": {
      "needs_background": "light"
     },
     "output_type": "display_data"
    },
    {
     "data": {
      "image/png": "[encoded data removed]",
      "text/plain": [
       "<Figure size 432x288 with 1 Axes>"
      ]
     },
     "metadata": {
      "needs_background": "light"
     },
     "output_type": "display_data"
    },
    {
     "data": {
      "image/png": "[encoded data removed]",
      "text/plain": [
       "<Figure size 432x288 with 1 Axes>"
      ]
     },
     "metadata": {
      "needs_background": "light"
     },
     "output_type": "display_data"
    },
    {
     "data": {
      "image/png": "[encoded data removed]",
      "text/plain": [
       "<Figure size 432x288 with 1 Axes>"
      ]
     },
     "metadata": {
      "needs_background": "light"
     },
     "output_type": "display_data"
    },
    {
     "data": {
      "image/png": "[encoded data removed]",
      "text/plain": [
       "<Figure size 432x288 with 1 Axes>"
      ]
     },
     "metadata": {
      "needs_background": "light"
     },
     "output_type": "display_data"
    },
    {
     "data": {
      "image/png": "[encoded data removed]",
      "text/plain": [
       "<Figure size 432x288 with 1 Axes>"
      ]
     },
     "metadata": {
      "needs_background": "light"
     },
     "output_type": "display_data"
    },
    {
     "data": {
      "image/png": "[encoded data removed]",
      "text/plain": [
       "<Figure size 432x288 with 1 Axes>"
      ]
     },
     "metadata": {
      "needs_background": "light"
     },
     "output_type": "display_data"
    }
   ],
   "source": [
    "# Print healthy distribution\n",
    "for col in healthy_df.columns:\n",
    "    if col != 'class' and col != 'dataset':\n",
    "        healthy_df.hist(column=col, bins=10);"
   ]
  },
  {
   "cell_type": "code",
   "execution_count": 853,
   "id": "841a70c1",
   "metadata": {},
   "outputs": [
    {
     "name": "stdout",
     "output_type": "stream",
     "text": [
      "1.0    728\n",
      "0.0    194\n",
      "Name: sex, dtype: int64\n"
     ]
    }
   ],
   "source": [
    "# Calculate male and female split in overall dataset\n",
    "print(combined_df['sex'].value_counts())"
   ]
  },
  {
   "cell_type": "code",
   "execution_count": 854,
   "id": "a67427ae",
   "metadata": {},
   "outputs": [
    {
     "name": "stdout",
     "output_type": "stream",
     "text": [
      "                  age       sex  chestpain    restbp  cholesterol       fbs  \\\n",
      "age          1.000000  0.034618  -0.036771  0.095390     0.036264  0.144362   \n",
      "sex          0.034618  1.000000   0.038542  0.050854    -0.144435 -0.053862   \n",
      "chestpain   -0.036771  0.038542   1.000000  0.091724     0.087232 -0.039794   \n",
      "restbp       0.095390  0.050854   0.091724  1.000000     0.098691  0.167925   \n",
      "cholesterol  0.036264 -0.144435   0.087232  0.098691     1.000000  0.133677   \n",
      "fbs          0.144362 -0.053862  -0.039794  0.167925     0.133677  1.000000   \n",
      "restecg      0.003303  0.060933   0.035948  0.055616    -0.055463  0.164040   \n",
      "maxhr       -0.160667 -0.005723  -0.086087  0.133329    -0.010218  0.036288   \n",
      "exerciseang  0.096940 -0.010888   0.196391  0.165769     0.064305 -0.177779   \n",
      "oldpeak      0.098902  0.049159   0.029917  0.145291     0.045328 -0.047965   \n",
      "class        0.287940  0.147746   0.169205  0.216420     0.092971  0.050683   \n",
      "\n",
      "              restecg     maxhr  exerciseang   oldpeak     class  \n",
      "age          0.003303 -0.160667     0.096940  0.098902  0.287940  \n",
      "sex          0.060933 -0.005723    -0.010888  0.049159  0.147746  \n",
      "chestpain    0.035948 -0.086087     0.196391  0.029917  0.169205  \n",
      "restbp       0.055616  0.133329     0.165769  0.145291  0.216420  \n",
      "cholesterol -0.055463 -0.010218     0.064305  0.045328  0.092971  \n",
      "fbs          0.164040  0.036288    -0.177779 -0.047965  0.050683  \n",
      "restecg      1.000000 -0.025929    -0.018989 -0.079697 -0.032013  \n",
      "maxhr       -0.025929  1.000000    -0.102352  0.128582 -0.046719  \n",
      "exerciseang -0.018989 -0.102352     1.000000  0.386466  0.205689  \n",
      "oldpeak     -0.079697  0.128582     0.386466  1.000000  0.335657  \n",
      "class       -0.032013 -0.046719     0.205689  0.335657  1.000000  \n",
      "                     age       sex  chestpain    restbp  cholesterol  \\\n",
      "age             1.000000 -0.097542   0.104139  0.284946     0.208950   \n",
      "sex            -0.097542  1.000000   0.010084 -0.064456    -0.199915   \n",
      "chestpain       0.104139  0.010084   1.000000 -0.036077     0.072319   \n",
      "restbp          0.284946 -0.064456  -0.036077  1.000000     0.130120   \n",
      "cholesterol     0.208950 -0.199915   0.072319  0.130120     1.000000   \n",
      "fbs             0.118530  0.047862  -0.039975  0.175340     0.009841   \n",
      "restecg         0.148868  0.021647   0.067505  0.146560     0.171043   \n",
      "maxhr          -0.393806 -0.048663  -0.334422 -0.045351    -0.003432   \n",
      "exerciseang     0.091661  0.146201   0.384060  0.064762     0.061310   \n",
      "oldpeak         0.203805  0.102173   0.202277  0.189171     0.046564   \n",
      "slope           0.161770  0.037533   0.152050  0.117382    -0.004062   \n",
      "vesselscolored  0.344370  0.099503   0.230724  0.095229     0.113955   \n",
      "thal            0.126997  0.384323   0.266742  0.133430     0.014134   \n",
      "class           0.222853  0.224469   0.407075  0.157754     0.070909   \n",
      "\n",
      "                     fbs   restecg     maxhr  exerciseang   oldpeak     slope  \\\n",
      "age             0.118530  0.148868 -0.393806     0.091661  0.203805  0.161770   \n",
      "sex             0.047862  0.021647 -0.048663     0.146201  0.102173  0.037533   \n",
      "chestpain      -0.039975  0.067505 -0.334422     0.384060  0.202277  0.152050   \n",
      "restbp          0.175340  0.146560 -0.045351     0.064762  0.189171  0.117382   \n",
      "cholesterol     0.009841  0.171043 -0.003432     0.061310  0.046564 -0.004062   \n",
      "fbs             1.000000  0.069564 -0.007854     0.025665  0.005747  0.059894   \n",
      "restecg         0.069564  1.000000 -0.083389     0.084867  0.114133  0.133946   \n",
      "maxhr          -0.007854 -0.083389  1.000000    -0.378103 -0.343085 -0.385601   \n",
      "exerciseang     0.025665  0.084867 -0.378103     1.000000  0.288223  0.257748   \n",
      "oldpeak         0.005747  0.114133 -0.343085     0.288223  1.000000  0.577537   \n",
      "slope           0.059894  0.133946 -0.385601     0.257748  0.577537  1.000000   \n",
      "vesselscolored  0.159959  0.130503 -0.263936     0.151934  0.282234  0.117520   \n",
      "thal            0.076922  0.019237 -0.272874     0.332785  0.342436  0.290288   \n",
      "class           0.059186  0.183696 -0.415040     0.397057  0.504092  0.377957   \n",
      "\n",
      "                vesselscolored      thal     class  \n",
      "age                   0.344370  0.126997  0.222853  \n",
      "sex                   0.099503  0.384323  0.224469  \n",
      "chestpain             0.230724  0.266742  0.407075  \n",
      "restbp                0.095229  0.133430  0.157754  \n",
      "cholesterol           0.113955  0.014134  0.070909  \n",
      "fbs                   0.159959  0.076922  0.059186  \n",
      "restecg               0.130503  0.019237  0.183696  \n",
      "maxhr                -0.263936 -0.272874 -0.415040  \n",
      "exerciseang           0.151934  0.332785  0.397057  \n",
      "oldpeak               0.282234  0.342436  0.504092  \n",
      "slope                 0.117520  0.290288  0.377957  \n",
      "vesselscolored        1.000000  0.266552  0.507731  \n",
      "thal                  0.266552  1.000000  0.511896  \n",
      "class                 0.507731  0.511896  1.000000  \n",
      "                  age       sex  chestpain    restbp   restecg     maxhr  \\\n",
      "age          1.000000 -0.049042  -0.033295  0.372002  0.274539 -0.279505   \n",
      "sex         -0.049042  1.000000   0.043017 -0.084975  0.080047 -0.120878   \n",
      "chestpain   -0.033295  0.043017   1.000000 -0.018838 -0.237887 -0.055105   \n",
      "restbp       0.372002 -0.084975  -0.018838  1.000000  0.195447 -0.207993   \n",
      "restecg      0.274539  0.080047  -0.237887  0.195447  1.000000  0.012083   \n",
      "maxhr       -0.279505 -0.120878  -0.055105 -0.207993  0.012083  1.000000   \n",
      "exerciseang -0.033004  0.083337   0.268548  0.119897 -0.120658 -0.223592   \n",
      "oldpeak      0.133982  0.000189   0.132402 -0.080873 -0.063039  0.159001   \n",
      "slope        0.086012 -0.005629   0.023229 -0.097959 -0.062240 -0.140906   \n",
      "thal         0.139840  0.255885   0.300772  0.042619  0.035686 -0.014763   \n",
      "class        0.050689  0.089853   0.232277  0.130919  0.049268 -0.290596   \n",
      "\n",
      "             exerciseang   oldpeak     slope      thal     class  \n",
      "age            -0.033004  0.133982  0.086012  0.139840  0.050689  \n",
      "sex             0.083337  0.000189 -0.005629  0.255885  0.089853  \n",
      "chestpain       0.268548  0.132402  0.023229  0.300772  0.232277  \n",
      "restbp          0.119897 -0.080873 -0.097959  0.042619  0.130919  \n",
      "restecg        -0.120658 -0.063039 -0.062240  0.035686  0.049268  \n",
      "maxhr          -0.223592  0.159001 -0.140906 -0.014763 -0.290596  \n",
      "exerciseang     1.000000  0.154394  0.174704  0.128615  0.122321  \n",
      "oldpeak         0.154394  1.000000  0.019264  0.058411  0.064422  \n",
      "slope           0.174704  0.019264  1.000000 -0.141935 -0.041151  \n",
      "thal            0.128615  0.058411 -0.141935  1.000000  0.108322  \n",
      "class           0.122321  0.064422 -0.041151  0.108322  1.000000  \n",
      "                  age       sex  chestpain    restbp  cholesterol       fbs  \\\n",
      "age          1.000000  0.014983   0.147811  0.244420     0.055841  0.180198   \n",
      "sex          0.014983  1.000000   0.251445  0.092217     0.049896  0.045063   \n",
      "chestpain    0.147811  0.251445   1.000000  0.087203     0.090073  0.031780   \n",
      "restbp       0.244420  0.092217   0.087203  1.000000     0.016116  0.097836   \n",
      "cholesterol  0.055841  0.049896   0.090073  0.016116     1.000000  0.087709   \n",
      "fbs          0.180198  0.045063   0.031780  0.097836     0.087709  1.000000   \n",
      "restecg      0.049286 -0.106385  -0.016345  0.009233     0.026911  0.048810   \n",
      "maxhr       -0.458068 -0.108701  -0.366537 -0.184170    -0.159320 -0.070474   \n",
      "exerciseang  0.236865  0.156168   0.492075  0.215273     0.117668  0.116513   \n",
      "oldpeak      0.175998  0.117421   0.349889  0.202181     0.069003  0.064260   \n",
      "class        0.208199  0.221498   0.425314  0.218537     0.199566  0.155243   \n",
      "\n",
      "              restecg     maxhr  exerciseang   oldpeak     class  \n",
      "age          0.049286 -0.458068     0.236865  0.175998  0.208199  \n",
      "sex         -0.106385 -0.108701     0.156168  0.117421  0.221498  \n",
      "chestpain   -0.016345 -0.366537     0.492075  0.349889  0.425314  \n",
      "restbp       0.009233 -0.184170     0.215273  0.202181  0.218537  \n",
      "cholesterol  0.026911 -0.159320     0.117668  0.069003  0.199566  \n",
      "fbs          0.048810 -0.070474     0.116513  0.064260  0.155243  \n",
      "restecg      1.000000  0.002304     0.043319  0.044181  0.044617  \n",
      "maxhr        0.002304  1.000000    -0.401392 -0.303869 -0.368485  \n",
      "exerciseang  0.043319 -0.401392     1.000000  0.626050  0.572940  \n",
      "oldpeak      0.044181 -0.303869     0.626050  1.000000  0.581913  \n",
      "class        0.044617 -0.368485     0.572940  0.581913  1.000000  \n"
     ]
    },
    {
     "data": {
      "image/png": "[encoded data removed]",
      "text/plain": [
       "<Figure size 432x288 with 2 Axes>"
      ]
     },
     "metadata": {
      "needs_background": "light"
     },
     "output_type": "display_data"
    },
    {
     "data": {
      "image/png": "[encoded data removed]",
      "text/plain": [
       "<Figure size 432x288 with 2 Axes>"
      ]
     },
     "metadata": {
      "needs_background": "light"
     },
     "output_type": "display_data"
    },
    {
     "data": {
      "image/png": "[encoded data removed]",
      "text/plain": [
       "<Figure size 432x288 with 2 Axes>"
      ]
     },
     "metadata": {
      "needs_background": "light"
     },
     "output_type": "display_data"
    },
    {
     "data": {
      "image/png": "[encoded data removed]",
      "text/plain": [
       "<Figure size 432x288 with 2 Axes>"
      ]
     },
     "metadata": {
      "needs_background": "light"
     },
     "output_type": "display_data"
    }
   ],
   "source": [
    "# Generate correlation heat map for all data frame variables\n",
    "generateHeatMap(stored_frames)"
   ]
  },
  {
   "cell_type": "code",
   "execution_count": 855,
   "id": "b5ca17e0",
   "metadata": {},
   "outputs": [
    {
     "name": "stdout",
     "output_type": "stream",
     "text": [
      "                  age       sex  chestpain    restbp  cholesterol       fbs  \\\n",
      "age          1.000000  0.057375   0.166869  0.237507     0.013763  0.217732   \n",
      "sex          0.057375  1.000000   0.171126  0.016523    -0.118618  0.072157   \n",
      "chestpain    0.166869  0.171126   1.000000  0.032746    -0.021525  0.012426   \n",
      "restbp       0.237507  0.016523   0.032746  1.000000     0.073568  0.151321   \n",
      "cholesterol  0.013763 -0.118618  -0.021525  0.073568     1.000000  0.100797   \n",
      "fbs          0.217732  0.072157   0.012426  0.151321     0.100797  1.000000   \n",
      "restecg      0.214024 -0.016574   0.032027  0.094973     0.084424  0.148225   \n",
      "maxhr       -0.370096 -0.188035  -0.324209 -0.088856     0.049633 -0.050659   \n",
      "exerciseang  0.200572  0.183774   0.397052  0.152290     0.038786  0.052559   \n",
      "oldpeak      0.251603  0.117511   0.228100  0.149342     0.041443  0.074047   \n",
      "class        0.280917  0.257850   0.404269  0.178437     0.010322  0.096922   \n",
      "\n",
      "              restecg     maxhr  exerciseang   oldpeak     class  \n",
      "age          0.214024 -0.370096     0.200572  0.251603  0.280917  \n",
      "sex         -0.016574 -0.188035     0.183774  0.117511  0.257850  \n",
      "chestpain    0.032027 -0.324209     0.397052  0.228100  0.404269  \n",
      "restbp       0.094973 -0.088856     0.152290  0.149342  0.178437  \n",
      "cholesterol  0.084424  0.049633     0.038786  0.041443  0.010322  \n",
      "fbs          0.148225 -0.050659     0.052559  0.074047  0.096922  \n",
      "restecg      1.000000  0.036181     0.046419  0.119070  0.085565  \n",
      "maxhr        0.036181  1.000000    -0.356681 -0.166123 -0.373697  \n",
      "exerciseang  0.046419 -0.356681     1.000000  0.410493  0.409272  \n",
      "oldpeak      0.119070 -0.166123     0.410493  1.000000  0.445562  \n",
      "class        0.085565 -0.373697     0.409272  0.445562  1.000000  \n"
     ]
    }
   ],
   "source": [
    "# Generate seperate correlation heat map for the combined data frame\n",
    "corr_map = combined_df.corr()\n",
    "print(corr_map)"
   ]
  },
  {
   "cell_type": "code",
   "execution_count": 856,
   "id": "4bda153d",
   "metadata": {},
   "outputs": [],
   "source": [
    "# Binary Classification Task\n",
    "\n",
    "# Logistic Regression\n",
    "# Suppoer Vector Classification Linear"
   ]
  },
  {
   "cell_type": "code",
   "execution_count": 857,
   "id": "5fb38081",
   "metadata": {},
   "outputs": [
    {
     "name": "stdout",
     "output_type": "stream",
     "text": [
      "(737, 10)\n",
      "(185, 10)\n",
      "(737,)\n",
      "(185,)\n"
     ]
    }
   ],
   "source": [
    "# Binary Models, Class is 0 or 1\n",
    "# Code sourced from https://medium.com/thinkport/top-10-binary-classification-algorithms-a-beginners-guide-feeacbd7a3e2\n",
    "# Code sourced from https://www.datasklr.com/logistic-regression/multinomial-logistic-regression\n",
    "\n",
    "# Format train/test x and y data\n",
    "binary_x = result.drop(columns='class', axis=1) \n",
    "\n",
    "binary_y = result['class']\n",
    "\n",
    "# Set all classes greater than 1 to 1\n",
    "binary_y.mask(binary_y == 2, 1, inplace=True)\n",
    "binary_y.mask(binary_y == 3, 1, inplace=True)\n",
    "binary_y.mask(binary_y == 4, 1, inplace=True)\n",
    "\n",
    "btrain_x, btest_x, btrain_y, btest_y = train_test_split(binary_x, binary_y, test_size = 0.20)\n",
    "\n",
    "print(btrain_x.shape)\n",
    "print(btest_x.shape)\n",
    "print(btrain_y.shape)\n",
    "print(btest_y.shape)"
   ]
  },
  {
   "cell_type": "code",
   "execution_count": 858,
   "id": "d8d17d39",
   "metadata": {},
   "outputs": [
    {
     "name": "stdout",
     "output_type": "stream",
     "text": [
      "Logistic regression Train Accuracy ::  0.7837837837837838\n"
     ]
    },
    {
     "name": "stderr",
     "output_type": "stream",
     "text": [
      "/Users/pranavvaranasi/opt/anaconda3/lib/python3.9/site-packages/sklearn/linear_model/_logistic.py:763: ConvergenceWarning: lbfgs failed to converge (status=1):\n",
      "STOP: TOTAL NO. of ITERATIONS REACHED LIMIT.\n",
      "\n",
      "Increase the number of iterations (max_iter) or scale the data as shown in:\n",
      "    https://scikit-learn.org/stable/modules/preprocessing.html\n",
      "Please also refer to the documentation for alternative solver options:\n",
      "    https://scikit-learn.org/stable/modules/linear_model.html#logistic-regression\n",
      "  n_iter_i = _check_optimize_result(\n",
      "/Users/pranavvaranasi/opt/anaconda3/lib/python3.9/site-packages/sklearn/linear_model/_logistic.py:763: ConvergenceWarning: lbfgs failed to converge (status=1):\n",
      "STOP: TOTAL NO. of ITERATIONS REACHED LIMIT.\n",
      "\n",
      "Increase the number of iterations (max_iter) or scale the data as shown in:\n",
      "    https://scikit-learn.org/stable/modules/preprocessing.html\n",
      "Please also refer to the documentation for alternative solver options:\n",
      "    https://scikit-learn.org/stable/modules/linear_model.html#logistic-regression\n",
      "  n_iter_i = _check_optimize_result(\n",
      "/Users/pranavvaranasi/opt/anaconda3/lib/python3.9/site-packages/sklearn/linear_model/_logistic.py:763: ConvergenceWarning: lbfgs failed to converge (status=1):\n",
      "STOP: TOTAL NO. of ITERATIONS REACHED LIMIT.\n",
      "\n",
      "Increase the number of iterations (max_iter) or scale the data as shown in:\n",
      "    https://scikit-learn.org/stable/modules/preprocessing.html\n",
      "Please also refer to the documentation for alternative solver options:\n",
      "    https://scikit-learn.org/stable/modules/linear_model.html#logistic-regression\n",
      "  n_iter_i = _check_optimize_result(\n",
      "/Users/pranavvaranasi/opt/anaconda3/lib/python3.9/site-packages/sklearn/linear_model/_logistic.py:763: ConvergenceWarning: lbfgs failed to converge (status=1):\n",
      "STOP: TOTAL NO. of ITERATIONS REACHED LIMIT.\n",
      "\n",
      "Increase the number of iterations (max_iter) or scale the data as shown in:\n",
      "    https://scikit-learn.org/stable/modules/preprocessing.html\n",
      "Please also refer to the documentation for alternative solver options:\n",
      "    https://scikit-learn.org/stable/modules/linear_model.html#logistic-regression\n",
      "  n_iter_i = _check_optimize_result(\n",
      "/Users/pranavvaranasi/opt/anaconda3/lib/python3.9/site-packages/sklearn/linear_model/_logistic.py:763: ConvergenceWarning: lbfgs failed to converge (status=1):\n",
      "STOP: TOTAL NO. of ITERATIONS REACHED LIMIT.\n",
      "\n",
      "Increase the number of iterations (max_iter) or scale the data as shown in:\n",
      "    https://scikit-learn.org/stable/modules/preprocessing.html\n",
      "Please also refer to the documentation for alternative solver options:\n",
      "    https://scikit-learn.org/stable/modules/linear_model.html#logistic-regression\n",
      "  n_iter_i = _check_optimize_result(\n",
      "/Users/pranavvaranasi/opt/anaconda3/lib/python3.9/site-packages/sklearn/linear_model/_logistic.py:763: ConvergenceWarning: lbfgs failed to converge (status=1):\n",
      "STOP: TOTAL NO. of ITERATIONS REACHED LIMIT.\n",
      "\n",
      "Increase the number of iterations (max_iter) or scale the data as shown in:\n",
      "    https://scikit-learn.org/stable/modules/preprocessing.html\n",
      "Please also refer to the documentation for alternative solver options:\n",
      "    https://scikit-learn.org/stable/modules/linear_model.html#logistic-regression\n",
      "  n_iter_i = _check_optimize_result(\n",
      "/Users/pranavvaranasi/opt/anaconda3/lib/python3.9/site-packages/sklearn/linear_model/_logistic.py:763: ConvergenceWarning: lbfgs failed to converge (status=1):\n",
      "STOP: TOTAL NO. of ITERATIONS REACHED LIMIT.\n",
      "\n",
      "Increase the number of iterations (max_iter) or scale the data as shown in:\n",
      "    https://scikit-learn.org/stable/modules/preprocessing.html\n",
      "Please also refer to the documentation for alternative solver options:\n",
      "    https://scikit-learn.org/stable/modules/linear_model.html#logistic-regression\n",
      "  n_iter_i = _check_optimize_result(\n",
      "/Users/pranavvaranasi/opt/anaconda3/lib/python3.9/site-packages/sklearn/linear_model/_logistic.py:763: ConvergenceWarning: lbfgs failed to converge (status=1):\n",
      "STOP: TOTAL NO. of ITERATIONS REACHED LIMIT.\n",
      "\n",
      "Increase the number of iterations (max_iter) or scale the data as shown in:\n",
      "    https://scikit-learn.org/stable/modules/preprocessing.html\n",
      "Please also refer to the documentation for alternative solver options:\n",
      "    https://scikit-learn.org/stable/modules/linear_model.html#logistic-regression\n",
      "  n_iter_i = _check_optimize_result(\n",
      "/Users/pranavvaranasi/opt/anaconda3/lib/python3.9/site-packages/sklearn/linear_model/_logistic.py:763: ConvergenceWarning: lbfgs failed to converge (status=1):\n",
      "STOP: TOTAL NO. of ITERATIONS REACHED LIMIT.\n",
      "\n",
      "Increase the number of iterations (max_iter) or scale the data as shown in:\n",
      "    https://scikit-learn.org/stable/modules/preprocessing.html\n",
      "Please also refer to the documentation for alternative solver options:\n",
      "    https://scikit-learn.org/stable/modules/linear_model.html#logistic-regression\n",
      "  n_iter_i = _check_optimize_result(\n"
     ]
    },
    {
     "name": "stdout",
     "output_type": "stream",
     "text": [
      "0.77 Binary Logistic Accuracy with a standard deviation of 0.07\n"
     ]
    },
    {
     "name": "stderr",
     "output_type": "stream",
     "text": [
      "/Users/pranavvaranasi/opt/anaconda3/lib/python3.9/site-packages/sklearn/linear_model/_logistic.py:763: ConvergenceWarning: lbfgs failed to converge (status=1):\n",
      "STOP: TOTAL NO. of ITERATIONS REACHED LIMIT.\n",
      "\n",
      "Increase the number of iterations (max_iter) or scale the data as shown in:\n",
      "    https://scikit-learn.org/stable/modules/preprocessing.html\n",
      "Please also refer to the documentation for alternative solver options:\n",
      "    https://scikit-learn.org/stable/modules/linear_model.html#logistic-regression\n",
      "  n_iter_i = _check_optimize_result(\n",
      "/Users/pranavvaranasi/opt/anaconda3/lib/python3.9/site-packages/sklearn/linear_model/_logistic.py:763: ConvergenceWarning: lbfgs failed to converge (status=1):\n",
      "STOP: TOTAL NO. of ITERATIONS REACHED LIMIT.\n",
      "\n",
      "Increase the number of iterations (max_iter) or scale the data as shown in:\n",
      "    https://scikit-learn.org/stable/modules/preprocessing.html\n",
      "Please also refer to the documentation for alternative solver options:\n",
      "    https://scikit-learn.org/stable/modules/linear_model.html#logistic-regression\n",
      "  n_iter_i = _check_optimize_result(\n"
     ]
    }
   ],
   "source": [
    "# Code sourced from https://www.datasklr.com/logistic-regression/multinomial-logistic-regression\n",
    "# Code sourced from https://scikit-learn.org/stable/modules/generated/sklearn.metrics.accuracy_score.html\n",
    "# Code sourced from https://scikit-learn.org/stable/modules/cross_validation.html\n",
    "\n",
    "binary_logistic_model = linear_model.LogisticRegression().fit(btrain_x, btrain_y)\n",
    "binary_logistic_preds = binary_logistic_model.predict(btest_x)\n",
    "print(\"Logistic regression Train Accuracy :: \", metrics.accuracy_score(btest_y, binary_logistic_preds))\n",
    "\n",
    "# Perform K=10 cross validation\n",
    "binary_logistic_scores = cross_val_score(binary_logistic_model, binary_x, binary_y, cv=10)\n",
    "print(\"%0.2f Binary Logistic Accuracy with a standard deviation of %0.2f\" % (binary_logistic_scores.mean(), binary_logistic_scores.std()))"
   ]
  },
  {
   "cell_type": "code",
   "execution_count": 859,
   "id": "c61ac108",
   "metadata": {},
   "outputs": [
    {
     "data": {
      "image/png": "[encoded data removed]",
      "text/plain": [
       "<Figure size 432x288 with 1 Axes>"
      ]
     },
     "metadata": {
      "needs_background": "light"
     },
     "output_type": "display_data"
    }
   ],
   "source": [
    "plotPredictors(btrain_x, binary_logistic_model)"
   ]
  },
  {
   "cell_type": "code",
   "execution_count": 860,
   "id": "6da717ae",
   "metadata": {},
   "outputs": [
    {
     "name": "stdout",
     "output_type": "stream",
     "text": [
      "Optimization terminated successfully.\n",
      "         Current function value: 0.448680\n",
      "         Iterations 6\n",
      "                           Logit Regression Results                           \n",
      "==============================================================================\n",
      "Dep. Variable:                  class   No. Observations:                  737\n",
      "Model:                          Logit   Df Residuals:                      727\n",
      "Method:                           MLE   Df Model:                            9\n",
      "Date:                Mon, 02 May 2022   Pseudo R-squ.:                  0.3486\n",
      "Time:                        13:41:25   Log-Likelihood:                -330.68\n",
      "converged:                       True   LL-Null:                       -507.61\n",
      "Covariance Type:            nonrobust   LLR p-value:                 9.272e-71\n",
      "===============================================================================\n",
      "                  coef    std err          z      P>|z|      [0.025      0.975]\n",
      "-------------------------------------------------------------------------------\n",
      "age             0.0090      0.010      0.908      0.364      -0.010       0.029\n",
      "sex             1.1787      0.235      5.018      0.000       0.718       1.639\n",
      "chestpain       0.6394      0.104      6.144      0.000       0.435       0.843\n",
      "restbp         -0.0037      0.005     -0.763      0.445      -0.013       0.006\n",
      "cholesterol    -0.0023      0.002     -1.461      0.144      -0.005       0.001\n",
      "fbs             0.3738      0.290      1.287      0.198      -0.195       0.943\n",
      "restecg         0.0703      0.124      0.565      0.572      -0.174       0.314\n",
      "maxhr          -0.0236      0.003     -6.923      0.000      -0.030      -0.017\n",
      "exerciseang     0.9133      0.224      4.073      0.000       0.474       1.353\n",
      "oldpeak         0.7147      0.111      6.441      0.000       0.497       0.932\n",
      "===============================================================================\n"
     ]
    }
   ],
   "source": [
    "# Code sourced from https://www.statsmodels.org/dev/generated/statsmodels.discrete.discrete_model.Logit.html\n",
    "# Class values must be 0 and 1 for simple logistic regression\n",
    "# Print p-values for logistic regression\n",
    "logit_model= sm.Logit(btrain_y, btrain_x).fit()\n",
    "summary_model =logit_model.summary()\n",
    "print(summary_model)"
   ]
  },
  {
   "cell_type": "code",
   "execution_count": 861,
   "id": "cd80be30",
   "metadata": {},
   "outputs": [
    {
     "name": "stdout",
     "output_type": "stream",
     "text": [
      "Binary SVC Accuracy ::  0.8\n",
      "0.78 Binary SVC Linear Accuracy with a standard deviation of 0.06\n"
     ]
    }
   ],
   "source": [
    "# Code sourced from https://scikit-learn.org/stable/modules/generated/sklearn.svm.SVC.html\n",
    "# Run training for support vector classification\n",
    "\n",
    "blinear = svm.SVC(kernel='linear').fit(btrain_x, btrain_y)\n",
    "blinear_preds = blinear.predict(btest_x)\n",
    "print(\"Binary SVC Accuracy :: \", metrics.accuracy_score(btest_y, blinear_preds))\n",
    "\n",
    "# Perform K=10 cross validation\n",
    "binary_svc_scores = cross_val_score(blinear, binary_x, binary_y, cv=10)\n",
    "print(\"%0.2f Binary SVC Linear Accuracy with a standard deviation of %0.2f\" % (binary_svc_scores.mean(), binary_svc_scores.std()))\n"
   ]
  },
  {
   "cell_type": "code",
   "execution_count": 862,
   "id": "715507a7",
   "metadata": {},
   "outputs": [
    {
     "data": {
      "image/png": "[encoded data removed]",
      "text/plain": [
       "<Figure size 432x288 with 1 Axes>"
      ]
     },
     "metadata": {
      "needs_background": "light"
     },
     "output_type": "display_data"
    }
   ],
   "source": [
    "plotPredictors(btrain_x, blinear)"
   ]
  },
  {
   "cell_type": "code",
   "execution_count": 863,
   "id": "ddc9a99f",
   "metadata": {},
   "outputs": [
    {
     "name": "stdout",
     "output_type": "stream",
     "text": [
      "(737, 10)\n",
      "(185, 10)\n",
      "(737,)\n",
      "(185,)\n"
     ]
    }
   ],
   "source": [
    "# Multinomial Models, Class is 0 or 1\n",
    "\n",
    "# Use previous train test format to split data for MN classification\n",
    "frame_x = result.drop(columns='class', axis=1) \n",
    "frame_y = result['class']\n",
    "\n",
    "train_x, test_x, train_y, test_y = train_test_split(frame_x, frame_y, test_size = 0.20)\n",
    "\n",
    "print(train_x.shape)\n",
    "print(test_x.shape)\n",
    "print(train_y.shape)\n",
    "print(test_y.shape)\n"
   ]
  },
  {
   "cell_type": "code",
   "execution_count": 864,
   "id": "f238f2f8",
   "metadata": {},
   "outputs": [
    {
     "name": "stdout",
     "output_type": "stream",
     "text": [
      "Accuracy Score: 0.7675675675675676\n",
      "0.78 MN Logistic Accuracy with a standard deviation of 0.07\n"
     ]
    }
   ],
   "source": [
    "# Multinomial Logistic Regression Model\n",
    "# Code sourced from https://www.datasklr.com/logistic-regression/multinomial-logistic-regression\n",
    "mn_logistic_model = LogisticRegression(multi_class='multinomial', solver='newton-cg').fit(train_x, train_y)\n",
    "mn_logistic_preds = mn_logistic_model.predict(test_x)\n",
    "print('Accuracy Score:', metrics.accuracy_score(test_y, mn_logistic_preds))  \n",
    "\n",
    "# Perform K=10 cross validation\n",
    "mn_logistic_scores = cross_val_score(mn_logistic_model, frame_x, frame_y, cv=10)\n",
    "print(\"%0.2f MN Logistic Accuracy with a standard deviation of %0.2f\" % (mn_logistic_scores.mean(), mn_logistic_scores.std()))"
   ]
  },
  {
   "cell_type": "code",
   "execution_count": 865,
   "id": "7d5d8233",
   "metadata": {},
   "outputs": [
    {
     "data": {
      "image/png": "[encoded data removed]",
      "text/plain": [
       "<Figure size 432x288 with 1 Axes>"
      ]
     },
     "metadata": {
      "needs_background": "light"
     },
     "output_type": "display_data"
    }
   ],
   "source": [
    "plotPredictors(train_x, mn_logistic_model)"
   ]
  },
  {
   "cell_type": "code",
   "execution_count": 866,
   "id": "e58de156",
   "metadata": {},
   "outputs": [
    {
     "name": "stdout",
     "output_type": "stream",
     "text": [
      "Optimization terminated successfully.\n",
      "         Current function value: 0.425823\n",
      "         Iterations 7\n",
      "                          MNLogit Regression Results                          \n",
      "==============================================================================\n",
      "Dep. Variable:                  class   No. Observations:                  737\n",
      "Model:                        MNLogit   Df Residuals:                      726\n",
      "Method:                           MLE   Df Model:                           10\n",
      "Date:                Mon, 02 May 2022   Pseudo R-squ.:                  0.3797\n",
      "Time:                        13:41:40   Log-Likelihood:                -313.83\n",
      "converged:                       True   LL-Null:                       -505.94\n",
      "Covariance Type:            nonrobust   LLR p-value:                 2.152e-76\n",
      "===============================================================================\n",
      "    class=1       coef    std err          z      P>|z|      [0.025      0.975]\n",
      "-------------------------------------------------------------------------------\n",
      "const          -4.5172      1.381     -3.270      0.001      -7.224      -1.810\n",
      "age             0.0222      0.012      1.775      0.076      -0.002       0.047\n",
      "sex             1.5773      0.259      6.082      0.000       1.069       2.086\n",
      "chestpain       0.8854      0.120      7.383      0.000       0.650       1.120\n",
      "restbp          0.0077      0.006      1.323      0.186      -0.004       0.019\n",
      "cholesterol    -0.0025      0.002     -1.481      0.139      -0.006       0.001\n",
      "fbs             0.2791      0.294      0.950      0.342      -0.296       0.855\n",
      "restecg         0.0613      0.128      0.478      0.633      -0.190       0.313\n",
      "maxhr          -0.0141      0.004     -3.171      0.002      -0.023      -0.005\n",
      "exerciseang     1.0153      0.233      4.362      0.000       0.559       1.472\n",
      "oldpeak         0.6329      0.112      5.659      0.000       0.414       0.852\n",
      "===============================================================================\n"
     ]
    },
    {
     "name": "stderr",
     "output_type": "stream",
     "text": [
      "/Users/pranavvaranasi/opt/anaconda3/lib/python3.9/site-packages/statsmodels/tsa/tsatools.py:142: FutureWarning: In a future version of pandas all arguments of concat except for the argument 'objs' will be keyword-only\n",
      "  x = pd.concat(x[::order], 1)\n"
     ]
    }
   ],
   "source": [
    "# Code sourced from https://www.statsmodels.org/dev/generated/statsmodels.discrete.discrete_model.MNLogit.html\n",
    "# MN compares base class 0 against everything else to create 4 models for class\n",
    "mnlogit_model= sm.MNLogit(train_y,sm.add_constant(train_x)).fit()\n",
    "mnlogit_stats = mnlogit_model.summary()\n",
    "print(mnlogit_stats)"
   ]
  },
  {
   "cell_type": "code",
   "execution_count": 867,
   "id": "a5b1bb7d",
   "metadata": {},
   "outputs": [
    {
     "name": "stdout",
     "output_type": "stream",
     "text": [
      "MN SVC Accuracy ::  0.44324324324324327\n",
      "0.78 Multinomial SVC Accuracy with a standard deviation of 0.06\n"
     ]
    }
   ],
   "source": [
    "# Code sourced from https://towardsdatascience.com/multiclass-classification-with-support-vector-machines-svm-kernel-trick-kernel-functions-f9d5377d6f02\n",
    "mn_svc_model = svm.SVC(kernel='linear', C=1, decision_function_shape='ovo').fit(train_x, train_y)\n",
    "mn_svc_preds = mn_svc_model.predict(test_x)\n",
    "print(\"MN SVC Accuracy :: \", metrics.accuracy_score(btest_y, mn_svc_preds))\n",
    "\n",
    "# Perform K=10 cross validation\n",
    "mn_svc_scores = cross_val_score(mn_svc_model, frame_x, frame_y, cv=10)\n",
    "print(\"%0.2f Multinomial SVC Accuracy with a standard deviation of %0.2f\" % (mn_svc_scores.mean(), mn_svc_scores.std()))"
   ]
  },
  {
   "cell_type": "code",
   "execution_count": 868,
   "id": "ab336469",
   "metadata": {},
   "outputs": [
    {
     "data": {
      "image/png": "[encoded data removed]",
      "text/plain": [
       "<Figure size 432x288 with 1 Axes>"
      ]
     },
     "metadata": {
      "needs_background": "light"
     },
     "output_type": "display_data"
    }
   ],
   "source": [
    "plotPredictors(train_x, mn_svc_model)"
   ]
  },
  {
   "cell_type": "code",
   "execution_count": 869,
   "id": "23d71644",
   "metadata": {},
   "outputs": [
    {
     "name": "stdout",
     "output_type": "stream",
     "text": [
      "(582, 10)\n",
      "(146, 10)\n",
      "(582,)\n",
      "(146,)\n"
     ]
    }
   ],
   "source": [
    "# Female tests\n",
    "\n",
    "# Filter for just female data in frame\n",
    "female_result = result[result['sex'] == 1.0]\n",
    "\n",
    "female_x = female_result.drop(columns='class', axis=1) \n",
    "female_y = female_result['class']\n",
    "\n",
    "ftrain_x, ftest_x, ftrain_y, ftest_y = train_test_split(female_x, female_y, test_size = 0.20)\n",
    "\n",
    "print(ftrain_x.shape)\n",
    "print(ftest_x.shape)\n",
    "print(ftrain_y.shape)\n",
    "print(ftest_y.shape)"
   ]
  },
  {
   "cell_type": "code",
   "execution_count": 870,
   "id": "2939d916",
   "metadata": {},
   "outputs": [
    {
     "name": "stdout",
     "output_type": "stream",
     "text": [
      "(582, 10)\n",
      "(146, 10)\n",
      "(582,)\n",
      "(146,)\n"
     ]
    },
    {
     "name": "stderr",
     "output_type": "stream",
     "text": [
      "/Users/pranavvaranasi/opt/anaconda3/lib/python3.9/site-packages/pandas/core/generic.py:8870: SettingWithCopyWarning: \n",
      "A value is trying to be set on a copy of a slice from a DataFrame\n",
      "\n",
      "See the caveats in the documentation: https://pandas.pydata.org/pandas-docs/stable/user_guide/indexing.html#returning-a-view-versus-a-copy\n",
      "  return self._update_inplace(result)\n"
     ]
    }
   ],
   "source": [
    "# Mask data for binary classification\n",
    "binary_female_x = female_result.drop(columns='class', axis=1) \n",
    "binary_female_y = female_result['class']\n",
    "binary_female_y.mask(binary_female_y == 2, 1, inplace=True)\n",
    "binary_female_y.mask(binary_female_y == 3, 1, inplace=True)\n",
    "binary_female_y.mask(binary_female_y == 4, 1, inplace=True)\n",
    "\n",
    "bftrain_x, bftest_x, bftrain_y, bftest_y = train_test_split(binary_female_x, binary_female_y, test_size = 0.20)\n",
    "\n",
    "print(bftrain_x.shape)\n",
    "print(bftest_x.shape)\n",
    "print(bftrain_y.shape)\n",
    "print(bftest_y.shape)"
   ]
  },
  {
   "cell_type": "code",
   "execution_count": 871,
   "id": "8a49b7f1",
   "metadata": {},
   "outputs": [
    {
     "name": "stdout",
     "output_type": "stream",
     "text": [
      "Female Logistic regression Train Accuracy ::  0.7534246575342466\n"
     ]
    },
    {
     "name": "stderr",
     "output_type": "stream",
     "text": [
      "/Users/pranavvaranasi/opt/anaconda3/lib/python3.9/site-packages/sklearn/linear_model/_logistic.py:763: ConvergenceWarning: lbfgs failed to converge (status=1):\n",
      "STOP: TOTAL NO. of ITERATIONS REACHED LIMIT.\n",
      "\n",
      "Increase the number of iterations (max_iter) or scale the data as shown in:\n",
      "    https://scikit-learn.org/stable/modules/preprocessing.html\n",
      "Please also refer to the documentation for alternative solver options:\n",
      "    https://scikit-learn.org/stable/modules/linear_model.html#logistic-regression\n",
      "  n_iter_i = _check_optimize_result(\n",
      "/Users/pranavvaranasi/opt/anaconda3/lib/python3.9/site-packages/sklearn/linear_model/_logistic.py:763: ConvergenceWarning: lbfgs failed to converge (status=1):\n",
      "STOP: TOTAL NO. of ITERATIONS REACHED LIMIT.\n",
      "\n",
      "Increase the number of iterations (max_iter) or scale the data as shown in:\n",
      "    https://scikit-learn.org/stable/modules/preprocessing.html\n",
      "Please also refer to the documentation for alternative solver options:\n",
      "    https://scikit-learn.org/stable/modules/linear_model.html#logistic-regression\n",
      "  n_iter_i = _check_optimize_result(\n",
      "/Users/pranavvaranasi/opt/anaconda3/lib/python3.9/site-packages/sklearn/linear_model/_logistic.py:763: ConvergenceWarning: lbfgs failed to converge (status=1):\n",
      "STOP: TOTAL NO. of ITERATIONS REACHED LIMIT.\n",
      "\n",
      "Increase the number of iterations (max_iter) or scale the data as shown in:\n",
      "    https://scikit-learn.org/stable/modules/preprocessing.html\n",
      "Please also refer to the documentation for alternative solver options:\n",
      "    https://scikit-learn.org/stable/modules/linear_model.html#logistic-regression\n",
      "  n_iter_i = _check_optimize_result(\n",
      "/Users/pranavvaranasi/opt/anaconda3/lib/python3.9/site-packages/sklearn/linear_model/_logistic.py:763: ConvergenceWarning: lbfgs failed to converge (status=1):\n",
      "STOP: TOTAL NO. of ITERATIONS REACHED LIMIT.\n",
      "\n",
      "Increase the number of iterations (max_iter) or scale the data as shown in:\n",
      "    https://scikit-learn.org/stable/modules/preprocessing.html\n",
      "Please also refer to the documentation for alternative solver options:\n",
      "    https://scikit-learn.org/stable/modules/linear_model.html#logistic-regression\n",
      "  n_iter_i = _check_optimize_result(\n",
      "/Users/pranavvaranasi/opt/anaconda3/lib/python3.9/site-packages/sklearn/linear_model/_logistic.py:763: ConvergenceWarning: lbfgs failed to converge (status=1):\n",
      "STOP: TOTAL NO. of ITERATIONS REACHED LIMIT.\n",
      "\n",
      "Increase the number of iterations (max_iter) or scale the data as shown in:\n",
      "    https://scikit-learn.org/stable/modules/preprocessing.html\n",
      "Please also refer to the documentation for alternative solver options:\n",
      "    https://scikit-learn.org/stable/modules/linear_model.html#logistic-regression\n",
      "  n_iter_i = _check_optimize_result(\n",
      "/Users/pranavvaranasi/opt/anaconda3/lib/python3.9/site-packages/sklearn/linear_model/_logistic.py:763: ConvergenceWarning: lbfgs failed to converge (status=1):\n",
      "STOP: TOTAL NO. of ITERATIONS REACHED LIMIT.\n",
      "\n",
      "Increase the number of iterations (max_iter) or scale the data as shown in:\n",
      "    https://scikit-learn.org/stable/modules/preprocessing.html\n",
      "Please also refer to the documentation for alternative solver options:\n",
      "    https://scikit-learn.org/stable/modules/linear_model.html#logistic-regression\n",
      "  n_iter_i = _check_optimize_result(\n",
      "/Users/pranavvaranasi/opt/anaconda3/lib/python3.9/site-packages/sklearn/linear_model/_logistic.py:763: ConvergenceWarning: lbfgs failed to converge (status=1):\n",
      "STOP: TOTAL NO. of ITERATIONS REACHED LIMIT.\n",
      "\n",
      "Increase the number of iterations (max_iter) or scale the data as shown in:\n",
      "    https://scikit-learn.org/stable/modules/preprocessing.html\n",
      "Please also refer to the documentation for alternative solver options:\n",
      "    https://scikit-learn.org/stable/modules/linear_model.html#logistic-regression\n",
      "  n_iter_i = _check_optimize_result(\n",
      "/Users/pranavvaranasi/opt/anaconda3/lib/python3.9/site-packages/sklearn/linear_model/_logistic.py:763: ConvergenceWarning: lbfgs failed to converge (status=1):\n",
      "STOP: TOTAL NO. of ITERATIONS REACHED LIMIT.\n",
      "\n",
      "Increase the number of iterations (max_iter) or scale the data as shown in:\n",
      "    https://scikit-learn.org/stable/modules/preprocessing.html\n",
      "Please also refer to the documentation for alternative solver options:\n",
      "    https://scikit-learn.org/stable/modules/linear_model.html#logistic-regression\n",
      "  n_iter_i = _check_optimize_result(\n",
      "/Users/pranavvaranasi/opt/anaconda3/lib/python3.9/site-packages/sklearn/linear_model/_logistic.py:763: ConvergenceWarning: lbfgs failed to converge (status=1):\n",
      "STOP: TOTAL NO. of ITERATIONS REACHED LIMIT.\n",
      "\n",
      "Increase the number of iterations (max_iter) or scale the data as shown in:\n",
      "    https://scikit-learn.org/stable/modules/preprocessing.html\n",
      "Please also refer to the documentation for alternative solver options:\n",
      "    https://scikit-learn.org/stable/modules/linear_model.html#logistic-regression\n",
      "  n_iter_i = _check_optimize_result(\n",
      "/Users/pranavvaranasi/opt/anaconda3/lib/python3.9/site-packages/sklearn/linear_model/_logistic.py:763: ConvergenceWarning: lbfgs failed to converge (status=1):\n",
      "STOP: TOTAL NO. of ITERATIONS REACHED LIMIT.\n",
      "\n",
      "Increase the number of iterations (max_iter) or scale the data as shown in:\n",
      "    https://scikit-learn.org/stable/modules/preprocessing.html\n",
      "Please also refer to the documentation for alternative solver options:\n",
      "    https://scikit-learn.org/stable/modules/linear_model.html#logistic-regression\n",
      "  n_iter_i = _check_optimize_result(\n"
     ]
    },
    {
     "name": "stdout",
     "output_type": "stream",
     "text": [
      "0.77 Female Logistic Accuracy with a standard deviation of 0.05\n"
     ]
    },
    {
     "name": "stderr",
     "output_type": "stream",
     "text": [
      "/Users/pranavvaranasi/opt/anaconda3/lib/python3.9/site-packages/sklearn/linear_model/_logistic.py:763: ConvergenceWarning: lbfgs failed to converge (status=1):\n",
      "STOP: TOTAL NO. of ITERATIONS REACHED LIMIT.\n",
      "\n",
      "Increase the number of iterations (max_iter) or scale the data as shown in:\n",
      "    https://scikit-learn.org/stable/modules/preprocessing.html\n",
      "Please also refer to the documentation for alternative solver options:\n",
      "    https://scikit-learn.org/stable/modules/linear_model.html#logistic-regression\n",
      "  n_iter_i = _check_optimize_result(\n"
     ]
    }
   ],
   "source": [
    "# Peform Binary Female Logistic Regression\n",
    "binary_female_logistic_model = linear_model.LogisticRegression().fit(bftrain_x, bftrain_y)\n",
    "binary_female_logistic_preds = binary_female_logistic_model.predict(bftest_x)\n",
    "print(\"Female Logistic regression Train Accuracy :: \", metrics.accuracy_score(bftest_y, binary_female_logistic_preds))\n",
    "\n",
    "# Perform K=10 cross validation\n",
    "binary_female_logistic_scores = cross_val_score(binary_female_logistic_model, binary_female_x, binary_female_y, cv=10)\n",
    "print(\"%0.2f Female Logistic Accuracy with a standard deviation of %0.2f\" % (binary_female_logistic_scores.mean(), binary_female_logistic_scores.std()))"
   ]
  },
  {
   "cell_type": "code",
   "execution_count": 872,
   "id": "841a2c39",
   "metadata": {},
   "outputs": [
    {
     "name": "stdout",
     "output_type": "stream",
     "text": [
      "Optimization terminated successfully.\n",
      "         Current function value: 0.445718\n",
      "         Iterations 6\n",
      "                           Logit Regression Results                           \n",
      "==============================================================================\n",
      "Dep. Variable:                  class   No. Observations:                  582\n",
      "Model:                          Logit   Df Residuals:                      572\n",
      "Method:                           MLE   Df Model:                            9\n",
      "Date:                Mon, 02 May 2022   Pseudo R-squ.:                  0.3184\n",
      "Time:                        13:41:56   Log-Likelihood:                -259.41\n",
      "converged:                       True   LL-Null:                       -380.56\n",
      "Covariance Type:            nonrobust   LLR p-value:                 4.178e-47\n",
      "===============================================================================\n",
      "                  coef    std err          z      P>|z|      [0.025      0.975]\n",
      "-------------------------------------------------------------------------------\n",
      "age             0.0347      0.014      2.493      0.013       0.007       0.062\n",
      "sex            -1.7466      1.495     -1.168      0.243      -4.677       1.184\n",
      "chestpain       0.7903      0.125      6.298      0.000       0.544       1.036\n",
      "restbp         -0.0047      0.006     -0.731      0.464      -0.017       0.008\n",
      "cholesterol    -0.0016      0.002     -0.846      0.398      -0.005       0.002\n",
      "fbs             0.1997      0.317      0.630      0.529      -0.422       0.821\n",
      "restecg         0.1392      0.147      0.948      0.343      -0.149       0.427\n",
      "maxhr          -0.0153      0.005     -3.214      0.001      -0.025      -0.006\n",
      "exerciseang     0.8353      0.264      3.163      0.002       0.318       1.353\n",
      "oldpeak         0.7076      0.129      5.469      0.000       0.454       0.961\n",
      "===============================================================================\n"
     ]
    }
   ],
   "source": [
    "# Peform Binary Female Logistic Regression and print p-values with statsmodels\n",
    "binary_female_logit_model = sm.Logit(bftrain_y, bftrain_x).fit()\n",
    "binary_female_stats= binary_female_logit_model.summary()\n",
    "print(binary_female_stats)"
   ]
  },
  {
   "cell_type": "code",
   "execution_count": 873,
   "id": "65dd5bca",
   "metadata": {},
   "outputs": [
    {
     "data": {
      "image/png": "[encoded data removed]",
      "text/plain": [
       "<Figure size 432x288 with 1 Axes>"
      ]
     },
     "metadata": {
      "needs_background": "light"
     },
     "output_type": "display_data"
    }
   ],
   "source": [
    "plotPredictors(bftrain_x, binary_female_logistic_model)"
   ]
  },
  {
   "cell_type": "code",
   "execution_count": 874,
   "id": "f409d2c5",
   "metadata": {},
   "outputs": [
    {
     "name": "stdout",
     "output_type": "stream",
     "text": [
      "Binary Female SVC Accuracy ::  0.773972602739726\n",
      "0.77 Binary SVC Linear Accuracy with a standard deviation of 0.06\n"
     ]
    }
   ],
   "source": [
    "# Peform Binary Female SVC\n",
    "binary_female_linear = svm.SVC(kernel='linear').fit(bftrain_x, bftrain_y)\n",
    "binary_female_linear_preds = binary_female_linear.predict(bftest_x)\n",
    "print(\"Binary Female SVC Accuracy :: \", metrics.accuracy_score(bftest_y, binary_female_linear_preds))\n",
    "\n",
    "# Perform K=10 cross validation\n",
    "binary_female_svc_scores = cross_val_score(binary_female_linear, binary_female_x, binary_female_y, cv=10)\n",
    "print(\"%0.2f Binary SVC Linear Accuracy with a standard deviation of %0.2f\" % (binary_female_svc_scores.mean(), binary_female_svc_scores.std()))\n"
   ]
  },
  {
   "cell_type": "code",
   "execution_count": 875,
   "id": "14fa5532",
   "metadata": {},
   "outputs": [
    {
     "data": {
      "image/png": "[encoded data removed]",
      "text/plain": [
       "<Figure size 432x288 with 1 Axes>"
      ]
     },
     "metadata": {
      "needs_background": "light"
     },
     "output_type": "display_data"
    }
   ],
   "source": [
    "plotPredictors(bftrain_x, binary_female_linear)"
   ]
  },
  {
   "cell_type": "code",
   "execution_count": 876,
   "id": "84e63485",
   "metadata": {},
   "outputs": [
    {
     "name": "stdout",
     "output_type": "stream",
     "text": [
      "Accuracy Score: 0.821917808219178\n",
      "0.77 MN Female Logistic Accuracy with a standard deviation of 0.05\n"
     ]
    }
   ],
   "source": [
    "# Peform MN Female Logistic Regression\n",
    "mn_female_logistic_model = LogisticRegression(multi_class='multinomial', solver='newton-cg').fit(ftrain_x, ftrain_y)\n",
    "mn_female_logistic_preds = mn_female_logistic_model.predict(ftest_x)\n",
    "print('Accuracy Score:', metrics.accuracy_score(ftest_y, mn_female_logistic_preds))  \n",
    "\n",
    "# Perform K=10 cross validation\n",
    "mn_female_logistic_scores = cross_val_score(mn_female_logistic_model, female_x, female_y, cv=10)\n",
    "print(\"%0.2f MN Female Logistic Accuracy with a standard deviation of %0.2f\" % (mn_female_logistic_scores.mean(), mn_female_logistic_scores.std()))"
   ]
  },
  {
   "cell_type": "code",
   "execution_count": 877,
   "id": "9249ce57",
   "metadata": {},
   "outputs": [
    {
     "data": {
      "image/png": "[encoded data removed]",
      "text/plain": [
       "<Figure size 432x288 with 1 Axes>"
      ]
     },
     "metadata": {
      "needs_background": "light"
     },
     "output_type": "display_data"
    }
   ],
   "source": [
    "plotPredictors(ftrain_x, mn_female_logistic_model)"
   ]
  },
  {
   "cell_type": "code",
   "execution_count": 878,
   "id": "e362ecf6",
   "metadata": {},
   "outputs": [
    {
     "name": "stdout",
     "output_type": "stream",
     "text": [
      "Optimization terminated successfully.\n",
      "         Current function value: 0.467786\n",
      "         Iterations 6\n",
      "                          MNLogit Regression Results                          \n",
      "==============================================================================\n",
      "Dep. Variable:                  class   No. Observations:                  582\n",
      "Model:                        MNLogit   Df Residuals:                      572\n",
      "Method:                           MLE   Df Model:                            9\n",
      "Date:                Mon, 02 May 2022   Pseudo R-squ.:                  0.2963\n",
      "Time:                        13:42:07   Log-Likelihood:                -272.25\n",
      "converged:                       True   LL-Null:                       -386.89\n",
      "Covariance Type:            nonrobust   LLR p-value:                 2.327e-44\n",
      "===============================================================================\n",
      "    class=1       coef    std err          z      P>|z|      [0.025      0.975]\n",
      "-------------------------------------------------------------------------------\n",
      "age             0.0260      0.014      1.899      0.058      -0.001       0.053\n",
      "sex            -2.3321      1.500     -1.555      0.120      -5.271       0.607\n",
      "chestpain       0.8612      0.125      6.917      0.000       0.617       1.105\n",
      "restbp          0.0003      0.006      0.044      0.965      -0.012       0.012\n",
      "cholesterol    -0.0010      0.002     -0.596      0.551      -0.004       0.002\n",
      "fbs             0.0463      0.322      0.144      0.886      -0.585       0.678\n",
      "restecg         0.0653      0.142      0.460      0.645      -0.213       0.343\n",
      "maxhr          -0.0153      0.005     -3.156      0.002      -0.025      -0.006\n",
      "exerciseang     0.7383      0.245      3.017      0.003       0.259       1.218\n",
      "oldpeak         0.6388      0.123      5.196      0.000       0.398       0.880\n",
      "===============================================================================\n"
     ]
    },
    {
     "name": "stderr",
     "output_type": "stream",
     "text": [
      "/Users/pranavvaranasi/opt/anaconda3/lib/python3.9/site-packages/statsmodels/tsa/tsatools.py:142: FutureWarning: In a future version of pandas all arguments of concat except for the argument 'objs' will be keyword-only\n",
      "  x = pd.concat(x[::order], 1)\n"
     ]
    }
   ],
   "source": [
    "# Peform MN Female Logistic Regression and print p-values\n",
    "mlogit_female_model=sm.MNLogit(ftrain_y,sm.add_constant(ftrain_x)).fit()\n",
    "stats1_female=mlogit_female_model.summary()\n",
    "print(stats1_female)"
   ]
  },
  {
   "cell_type": "code",
   "execution_count": 879,
   "id": "91d2f820",
   "metadata": {},
   "outputs": [
    {
     "name": "stdout",
     "output_type": "stream",
     "text": [
      "MN Female SVC Accuracy ::  0.8424657534246576\n",
      "0.77 Multinomial SVC Accuracy with a standard deviation of 0.06\n"
     ]
    }
   ],
   "source": [
    "# Peform MN Female SVC\n",
    "mn_female_svc_model = svm.SVC(kernel='linear', C=1, decision_function_shape='ovo').fit(ftrain_x, ftrain_y)\n",
    "mn_female_svc_preds = mn_female_svc_model.predict(ftest_x)\n",
    "print(\"MN Female SVC Accuracy :: \", metrics.accuracy_score(ftest_y, mn_female_svc_preds))\n",
    "\n",
    "# Perform K=10 cross validation\n",
    "mn_female_svc_scores = cross_val_score(mn_female_svc_model, female_x, female_y, cv=10)\n",
    "print(\"%0.2f Multinomial SVC Accuracy with a standard deviation of %0.2f\" % (mn_female_svc_scores.mean(), mn_female_svc_scores.std()))"
   ]
  },
  {
   "cell_type": "code",
   "execution_count": 880,
   "id": "4539ebfe",
   "metadata": {},
   "outputs": [
    {
     "data": {
      "image/png": "[encoded data removed]",
      "text/plain": [
       "<Figure size 432x288 with 1 Axes>"
      ]
     },
     "metadata": {
      "needs_background": "light"
     },
     "output_type": "display_data"
    }
   ],
   "source": [
    "plotPredictors(ftrain_x, mn_female_svc_model)"
   ]
  }
 ],
 "metadata": {
  "kernelspec": {
   "display_name": "Python 3 (ipykernel)",
   "language": "python",
   "name": "python3"
  },
  "language_info": {
   "codemirror_mode": {
    "name": "ipython",
    "version": 3
   },
   "file_extension": ".py",
   "mimetype": "text/x-python",
   "name": "python",
   "nbconvert_exporter": "python",
   "pygments_lexer": "ipython3",
   "version": "3.9.7"
  }
 },
 "nbformat": 4,
 "nbformat_minor": 5
}
